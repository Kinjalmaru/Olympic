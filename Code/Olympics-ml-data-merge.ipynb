{
 "cells": [
  {
   "cell_type": "code",
   "execution_count": 279,
   "metadata": {},
   "outputs": [],
   "source": [
    "import pandas    as pd\n",
    "from   sklearn.linear_model    import LinearRegression\n",
    "from   sklearn.metrics         import mean_squared_error, r2_score\n",
    "import matplotlib.pyplot as plt\n",
    "import seaborn as sns"
   ]
  },
  {
   "cell_type": "code",
   "execution_count": 280,
   "metadata": {},
   "outputs": [],
   "source": [
    "# import csv files\n",
    "athletes = pd.read_csv(\"../data/athlete_events.csv\")\n",
    "nations =  pd.read_csv(\"../data/Host Cities.csv\")\n",
    "regions =  pd.read_csv(\"../data/noc_regions.csv\")"
   ]
  },
  {
   "cell_type": "code",
   "execution_count": 281,
   "metadata": {},
   "outputs": [
    {
     "data": {
      "text/html": "<div>\n<style scoped>\n    .dataframe tbody tr th:only-of-type {\n        vertical-align: middle;\n    }\n\n    .dataframe tbody tr th {\n        vertical-align: top;\n    }\n\n    .dataframe thead th {\n        text-align: right;\n    }\n</style>\n<table border=\"1\" class=\"dataframe\">\n  <thead>\n    <tr style=\"text-align: right;\">\n      <th></th>\n      <th>ID</th>\n      <th>Name</th>\n      <th>Sex</th>\n      <th>Age</th>\n      <th>Height</th>\n      <th>Weight</th>\n      <th>Team</th>\n      <th>NOC</th>\n      <th>Games</th>\n      <th>Year</th>\n      <th>Season</th>\n      <th>City</th>\n      <th>Sport</th>\n      <th>Event</th>\n      <th>Medal</th>\n      <th>Country</th>\n      <th>region</th>\n    </tr>\n  </thead>\n  <tbody>\n    <tr>\n      <th>0</th>\n      <td>1</td>\n      <td>A Dijiang</td>\n      <td>M</td>\n      <td>24.0</td>\n      <td>180.0</td>\n      <td>80.0</td>\n      <td>China</td>\n      <td>CHN</td>\n      <td>1992 Summer</td>\n      <td>1992</td>\n      <td>Summer</td>\n      <td>Barcelona</td>\n      <td>Basketball</td>\n      <td>Basketball Men's Basketball</td>\n      <td>NaN</td>\n      <td>Spain</td>\n      <td>China</td>\n    </tr>\n    <tr>\n      <th>1</th>\n      <td>6848</td>\n      <td>Bai Chongguang</td>\n      <td>M</td>\n      <td>21.0</td>\n      <td>184.0</td>\n      <td>83.0</td>\n      <td>China</td>\n      <td>CHN</td>\n      <td>1992 Summer</td>\n      <td>1992</td>\n      <td>Summer</td>\n      <td>Barcelona</td>\n      <td>Boxing</td>\n      <td>Boxing Men's Light-Heavyweight</td>\n      <td>NaN</td>\n      <td>Spain</td>\n      <td>China</td>\n    </tr>\n    <tr>\n      <th>2</th>\n      <td>6854</td>\n      <td>Bai Mei</td>\n      <td>F</td>\n      <td>17.0</td>\n      <td>166.0</td>\n      <td>46.0</td>\n      <td>China</td>\n      <td>CHN</td>\n      <td>1992 Summer</td>\n      <td>1992</td>\n      <td>Summer</td>\n      <td>Barcelona</td>\n      <td>Rhythmic Gymnastics</td>\n      <td>Rhythmic Gymnastics Women's Individual</td>\n      <td>NaN</td>\n      <td>Spain</td>\n      <td>China</td>\n    </tr>\n    <tr>\n      <th>3</th>\n      <td>11225</td>\n      <td>Bi Zhong</td>\n      <td>M</td>\n      <td>23.0</td>\n      <td>188.0</td>\n      <td>110.0</td>\n      <td>China</td>\n      <td>CHN</td>\n      <td>1992 Summer</td>\n      <td>1992</td>\n      <td>Summer</td>\n      <td>Barcelona</td>\n      <td>Athletics</td>\n      <td>Athletics Men's Hammer Throw</td>\n      <td>NaN</td>\n      <td>Spain</td>\n      <td>China</td>\n    </tr>\n    <tr>\n      <th>4</th>\n      <td>17295</td>\n      <td>Cai Yanshu</td>\n      <td>M</td>\n      <td>28.0</td>\n      <td>169.0</td>\n      <td>79.0</td>\n      <td>China</td>\n      <td>CHN</td>\n      <td>1992 Summer</td>\n      <td>1992</td>\n      <td>Summer</td>\n      <td>Barcelona</td>\n      <td>Weightlifting</td>\n      <td>Weightlifting Men's Light-Heavyweight</td>\n      <td>NaN</td>\n      <td>Spain</td>\n      <td>China</td>\n    </tr>\n  </tbody>\n</table>\n</div>",
      "text/plain": "      ID            Name Sex   Age  Height  Weight   Team  NOC        Games  \\\n0      1       A Dijiang   M  24.0   180.0    80.0  China  CHN  1992 Summer   \n1   6848  Bai Chongguang   M  21.0   184.0    83.0  China  CHN  1992 Summer   \n2   6854         Bai Mei   F  17.0   166.0    46.0  China  CHN  1992 Summer   \n3  11225        Bi Zhong   M  23.0   188.0   110.0  China  CHN  1992 Summer   \n4  17295      Cai Yanshu   M  28.0   169.0    79.0  China  CHN  1992 Summer   \n\n   Year  Season       City                Sport  \\\n0  1992  Summer  Barcelona           Basketball   \n1  1992  Summer  Barcelona               Boxing   \n2  1992  Summer  Barcelona  Rhythmic Gymnastics   \n3  1992  Summer  Barcelona            Athletics   \n4  1992  Summer  Barcelona        Weightlifting   \n\n                                    Event Medal Country region  \n0             Basketball Men's Basketball   NaN   Spain  China  \n1          Boxing Men's Light-Heavyweight   NaN   Spain  China  \n2  Rhythmic Gymnastics Women's Individual   NaN   Spain  China  \n3            Athletics Men's Hammer Throw   NaN   Spain  China  \n4   Weightlifting Men's Light-Heavyweight   NaN   Spain  China  "
     },
     "execution_count": 281,
     "metadata": {},
     "output_type": "execute_result"
    }
   ],
   "source": [
    "# merge all csv\n",
    "merge = athletes.merge(nations, left_on='City', right_on='City')\n",
    "merge = merge.merge(regions, on='NOC')\n",
    "merge.head()"
   ]
  },
  {
   "cell_type": "code",
   "execution_count": 282,
   "metadata": {},
   "outputs": [
    {
     "data": {
      "text/html": "<div>\n<style scoped>\n    .dataframe tbody tr th:only-of-type {\n        vertical-align: middle;\n    }\n\n    .dataframe tbody tr th {\n        vertical-align: top;\n    }\n\n    .dataframe thead th {\n        text-align: right;\n    }\n</style>\n<table border=\"1\" class=\"dataframe\">\n  <thead>\n    <tr style=\"text-align: right;\">\n      <th></th>\n      <th>ID</th>\n      <th>Name</th>\n      <th>Sex</th>\n      <th>Age</th>\n      <th>Height</th>\n      <th>Weight</th>\n      <th>Team</th>\n      <th>NOC</th>\n      <th>Games</th>\n      <th>Year</th>\n      <th>...</th>\n      <th>Event</th>\n      <th>Medal</th>\n      <th>Country</th>\n      <th>region</th>\n      <th>Summer</th>\n      <th>Female</th>\n      <th>Gold</th>\n      <th>Silver</th>\n      <th>Bronze</th>\n      <th>Home Field</th>\n    </tr>\n  </thead>\n  <tbody>\n    <tr>\n      <th>0</th>\n      <td>1</td>\n      <td>A Dijiang</td>\n      <td>M</td>\n      <td>24.0</td>\n      <td>180.0</td>\n      <td>80.0</td>\n      <td>China</td>\n      <td>CHN</td>\n      <td>1992 Summer</td>\n      <td>1992</td>\n      <td>...</td>\n      <td>Basketball Men's Basketball</td>\n      <td>NaN</td>\n      <td>Spain</td>\n      <td>China</td>\n      <td>True</td>\n      <td>False</td>\n      <td>False</td>\n      <td>False</td>\n      <td>False</td>\n      <td>False</td>\n    </tr>\n    <tr>\n      <th>1</th>\n      <td>6848</td>\n      <td>Bai Chongguang</td>\n      <td>M</td>\n      <td>21.0</td>\n      <td>184.0</td>\n      <td>83.0</td>\n      <td>China</td>\n      <td>CHN</td>\n      <td>1992 Summer</td>\n      <td>1992</td>\n      <td>...</td>\n      <td>Boxing Men's Light-Heavyweight</td>\n      <td>NaN</td>\n      <td>Spain</td>\n      <td>China</td>\n      <td>True</td>\n      <td>False</td>\n      <td>False</td>\n      <td>False</td>\n      <td>False</td>\n      <td>False</td>\n    </tr>\n    <tr>\n      <th>2</th>\n      <td>6854</td>\n      <td>Bai Mei</td>\n      <td>F</td>\n      <td>17.0</td>\n      <td>166.0</td>\n      <td>46.0</td>\n      <td>China</td>\n      <td>CHN</td>\n      <td>1992 Summer</td>\n      <td>1992</td>\n      <td>...</td>\n      <td>Rhythmic Gymnastics Women's Individual</td>\n      <td>NaN</td>\n      <td>Spain</td>\n      <td>China</td>\n      <td>True</td>\n      <td>True</td>\n      <td>False</td>\n      <td>False</td>\n      <td>False</td>\n      <td>False</td>\n    </tr>\n    <tr>\n      <th>3</th>\n      <td>11225</td>\n      <td>Bi Zhong</td>\n      <td>M</td>\n      <td>23.0</td>\n      <td>188.0</td>\n      <td>110.0</td>\n      <td>China</td>\n      <td>CHN</td>\n      <td>1992 Summer</td>\n      <td>1992</td>\n      <td>...</td>\n      <td>Athletics Men's Hammer Throw</td>\n      <td>NaN</td>\n      <td>Spain</td>\n      <td>China</td>\n      <td>True</td>\n      <td>False</td>\n      <td>False</td>\n      <td>False</td>\n      <td>False</td>\n      <td>False</td>\n    </tr>\n    <tr>\n      <th>4</th>\n      <td>17295</td>\n      <td>Cai Yanshu</td>\n      <td>M</td>\n      <td>28.0</td>\n      <td>169.0</td>\n      <td>79.0</td>\n      <td>China</td>\n      <td>CHN</td>\n      <td>1992 Summer</td>\n      <td>1992</td>\n      <td>...</td>\n      <td>Weightlifting Men's Light-Heavyweight</td>\n      <td>NaN</td>\n      <td>Spain</td>\n      <td>China</td>\n      <td>True</td>\n      <td>False</td>\n      <td>False</td>\n      <td>False</td>\n      <td>False</td>\n      <td>False</td>\n    </tr>\n  </tbody>\n</table>\n<p>5 rows × 23 columns</p>\n</div>",
      "text/plain": "      ID            Name Sex   Age  Height  Weight   Team  NOC        Games  \\\n0      1       A Dijiang   M  24.0   180.0    80.0  China  CHN  1992 Summer   \n1   6848  Bai Chongguang   M  21.0   184.0    83.0  China  CHN  1992 Summer   \n2   6854         Bai Mei   F  17.0   166.0    46.0  China  CHN  1992 Summer   \n3  11225        Bi Zhong   M  23.0   188.0   110.0  China  CHN  1992 Summer   \n4  17295      Cai Yanshu   M  28.0   169.0    79.0  China  CHN  1992 Summer   \n\n   Year  ...                                   Event Medal Country region  \\\n0  1992  ...             Basketball Men's Basketball   NaN   Spain  China   \n1  1992  ...          Boxing Men's Light-Heavyweight   NaN   Spain  China   \n2  1992  ...  Rhythmic Gymnastics Women's Individual   NaN   Spain  China   \n3  1992  ...            Athletics Men's Hammer Throw   NaN   Spain  China   \n4  1992  ...   Weightlifting Men's Light-Heavyweight   NaN   Spain  China   \n\n  Summer Female   Gold  Silver  Bronze  Home Field  \n0   True  False  False   False   False       False  \n1   True  False  False   False   False       False  \n2   True   True  False   False   False       False  \n3   True  False  False   False   False       False  \n4   True  False  False   False   False       False  \n\n[5 rows x 23 columns]"
     },
     "execution_count": 282,
     "metadata": {},
     "output_type": "execute_result"
    }
   ],
   "source": [
    "merge['Summer']     = merge['Season'] == 'Summer'\n",
    "merge['Gold']       = merge['Medal']  == 'Gold'\n",
    "merge['Silver']     = merge['Medal']  == 'Silver'\n",
    "merge['Bronze']     = merge['Medal']  == 'Bronze'\n",
    "merge['Home Field'] = merge['Country']    == merge['region']\n",
    "merge.head()"
   ]
  }
 ],
 "metadata": {
  "kernelspec": {
   "display_name": "Python 3",
   "language": "python",
   "name": "python3"
  },
  "language_info": {
   "codemirror_mode": {
    "name": "ipython",
    "version": 3
   },
   "file_extension": ".py",
   "mimetype": "text/x-python",
   "name": "python",
   "nbconvert_exporter": "python",
   "pygments_lexer": "ipython3",
   "version": "3.8.5"
  }
 },
 "nbformat": 4,
 "nbformat_minor": 2
}