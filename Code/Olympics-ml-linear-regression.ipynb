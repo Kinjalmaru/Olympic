{
 "cells": [
  {
   "cell_type": "code",
   "execution_count": 1,
   "metadata": {},
   "outputs": [],
   "source": [
    "import pandas    as pd\n",
    "from   sklearn.linear_model    import LinearRegression\n",
    "from   sklearn.metrics         import mean_squared_error, r2_score\n",
    "import matplotlib.pyplot as plt\n",
    "import seaborn as sns"
   ]
  },
  {
   "cell_type": "code",
   "execution_count": 2,
   "metadata": {},
   "outputs": [],
   "source": [
    "# import csv files\n",
    "merge =  pd.read_csv(\"../data/Olympics_merged.csv\")"
   ]
  },
  {
   "cell_type": "code",
   "execution_count": 4,
   "metadata": {},
   "outputs": [
    {
     "name": "stderr",
     "output_type": "stream",
     "text": [
      "<ipython-input-4-71f4e9767915>:2: FutureWarning: Indexing with multiple keys (implicitly converted to a tuple of keys) will be deprecated, use a list instead.\n",
      "  medals = pd.DataFrame(merge.groupby(['Games','NOC','region'])['Name','Sport','Event'].nunique())\n"
     ]
    },
    {
     "data": {
      "text/html": "<div>\n<style scoped>\n    .dataframe tbody tr th:only-of-type {\n        vertical-align: middle;\n    }\n\n    .dataframe tbody tr th {\n        vertical-align: top;\n    }\n\n    .dataframe thead th {\n        text-align: right;\n    }\n</style>\n<table border=\"1\" class=\"dataframe\">\n  <thead>\n    <tr style=\"text-align: right;\">\n      <th></th>\n      <th></th>\n      <th></th>\n      <th>Name</th>\n      <th>Sport</th>\n      <th>Event</th>\n    </tr>\n    <tr>\n      <th>Games</th>\n      <th>NOC</th>\n      <th>region</th>\n      <th></th>\n      <th></th>\n      <th></th>\n    </tr>\n  </thead>\n  <tbody>\n    <tr>\n      <th rowspan=\"5\" valign=\"top\">1896 Summer</th>\n      <th>AUS</th>\n      <th>Australia</th>\n      <td>1</td>\n      <td>2</td>\n      <td>5</td>\n    </tr>\n    <tr>\n      <th>AUT</th>\n      <th>Austria</th>\n      <td>3</td>\n      <td>3</td>\n      <td>8</td>\n    </tr>\n    <tr>\n      <th>DEN</th>\n      <th>Denmark</th>\n      <td>3</td>\n      <td>5</td>\n      <td>12</td>\n    </tr>\n    <tr>\n      <th>FRA</th>\n      <th>France</th>\n      <td>12</td>\n      <td>6</td>\n      <td>18</td>\n    </tr>\n    <tr>\n      <th>GBR</th>\n      <th>UK</th>\n      <td>10</td>\n      <td>7</td>\n      <td>19</td>\n    </tr>\n  </tbody>\n</table>\n</div>",
      "text/plain": "                           Name  Sport  Event\nGames       NOC region                       \n1896 Summer AUS Australia     1      2      5\n            AUT Austria       3      3      8\n            DEN Denmark       3      5     12\n            FRA France       12      6     18\n            GBR UK           10      7     19"
     },
     "execution_count": 4,
     "metadata": {},
     "output_type": "execute_result"
    }
   ],
   "source": [
    "# total sport and event participation by games and country\n",
    "medals = pd.DataFrame(merge.groupby(['Games','NOC','region'])['Name','Sport','Event'].nunique())\n",
    "medals.head()"
   ]
  },
  {
   "cell_type": "code",
   "execution_count": 5,
   "metadata": {},
   "outputs": [
    {
     "data": {
      "text/html": "<div>\n<style scoped>\n    .dataframe tbody tr th:only-of-type {\n        vertical-align: middle;\n    }\n\n    .dataframe tbody tr th {\n        vertical-align: top;\n    }\n\n    .dataframe thead th {\n        text-align: right;\n    }\n</style>\n<table border=\"1\" class=\"dataframe\">\n  <thead>\n    <tr style=\"text-align: right;\">\n      <th></th>\n      <th></th>\n      <th></th>\n      <th>Name</th>\n      <th>Sport</th>\n      <th>Event</th>\n      <th>Medal</th>\n    </tr>\n    <tr>\n      <th>Games</th>\n      <th>NOC</th>\n      <th>region</th>\n      <th></th>\n      <th></th>\n      <th></th>\n      <th></th>\n    </tr>\n  </thead>\n  <tbody>\n    <tr>\n      <th rowspan=\"5\" valign=\"top\">1896 Summer</th>\n      <th>AUS</th>\n      <th>Australia</th>\n      <td>1</td>\n      <td>2</td>\n      <td>5</td>\n      <td>3</td>\n    </tr>\n    <tr>\n      <th>AUT</th>\n      <th>Austria</th>\n      <td>3</td>\n      <td>3</td>\n      <td>8</td>\n      <td>5</td>\n    </tr>\n    <tr>\n      <th>DEN</th>\n      <th>Denmark</th>\n      <td>3</td>\n      <td>5</td>\n      <td>12</td>\n      <td>6</td>\n    </tr>\n    <tr>\n      <th>FRA</th>\n      <th>France</th>\n      <td>12</td>\n      <td>6</td>\n      <td>18</td>\n      <td>11</td>\n    </tr>\n    <tr>\n      <th>GBR</th>\n      <th>UK</th>\n      <td>10</td>\n      <td>7</td>\n      <td>19</td>\n      <td>9</td>\n    </tr>\n  </tbody>\n</table>\n</div>",
      "text/plain": "                           Name  Sport  Event  Medal\nGames       NOC region                              \n1896 Summer AUS Australia     1      2      5      3\n            AUT Austria       3      3      8      5\n            DEN Denmark       3      5     12      6\n            FRA France       12      6     18     11\n            GBR UK           10      7     19      9"
     },
     "execution_count": 5,
     "metadata": {},
     "output_type": "execute_result"
    }
   ],
   "source": [
    "# total medal count by games and country\n",
    "df     = pd.DataFrame(merge.groupby(['Games','NOC','region','Event'])['Medal'].nunique())\n",
    "df     = df.groupby(['Games','NOC','region']).sum()\n",
    "medals = medals.merge(df, left_index=True, right_index=True)\n",
    "medals.head()"
   ]
  },
  {
   "cell_type": "code",
   "execution_count": 6,
   "metadata": {},
   "outputs": [
    {
     "name": "stderr",
     "output_type": "stream",
     "text": [
      "<ipython-input-6-b6edfe3e8ec5>:2: FutureWarning: Indexing with multiple keys (implicitly converted to a tuple of keys) will be deprecated, use a list instead.\n",
      "  df     = merge.groupby(['Games','NOC','region','Event'])['Gold','Silver','Bronze'].sum()\n"
     ]
    },
    {
     "data": {
      "text/html": "<div>\n<style scoped>\n    .dataframe tbody tr th:only-of-type {\n        vertical-align: middle;\n    }\n\n    .dataframe tbody tr th {\n        vertical-align: top;\n    }\n\n    .dataframe thead th {\n        text-align: right;\n    }\n</style>\n<table border=\"1\" class=\"dataframe\">\n  <thead>\n    <tr style=\"text-align: right;\">\n      <th></th>\n      <th></th>\n      <th></th>\n      <th>Name</th>\n      <th>Sport</th>\n      <th>Event</th>\n      <th>Medal</th>\n      <th>Gold</th>\n      <th>Silver</th>\n      <th>Bronze</th>\n    </tr>\n    <tr>\n      <th>Games</th>\n      <th>NOC</th>\n      <th>region</th>\n      <th></th>\n      <th></th>\n      <th></th>\n      <th></th>\n      <th></th>\n      <th></th>\n      <th></th>\n    </tr>\n  </thead>\n  <tbody>\n    <tr>\n      <th rowspan=\"5\" valign=\"top\">1896 Summer</th>\n      <th>AUS</th>\n      <th>Australia</th>\n      <td>1</td>\n      <td>2</td>\n      <td>5</td>\n      <td>3</td>\n      <td>2</td>\n      <td>0</td>\n      <td>1</td>\n    </tr>\n    <tr>\n      <th>AUT</th>\n      <th>Austria</th>\n      <td>3</td>\n      <td>3</td>\n      <td>8</td>\n      <td>5</td>\n      <td>2</td>\n      <td>1</td>\n      <td>2</td>\n    </tr>\n    <tr>\n      <th>DEN</th>\n      <th>Denmark</th>\n      <td>3</td>\n      <td>5</td>\n      <td>12</td>\n      <td>6</td>\n      <td>1</td>\n      <td>2</td>\n      <td>3</td>\n    </tr>\n    <tr>\n      <th>FRA</th>\n      <th>France</th>\n      <td>12</td>\n      <td>6</td>\n      <td>18</td>\n      <td>11</td>\n      <td>5</td>\n      <td>4</td>\n      <td>2</td>\n    </tr>\n    <tr>\n      <th>GBR</th>\n      <th>UK</th>\n      <td>10</td>\n      <td>7</td>\n      <td>19</td>\n      <td>9</td>\n      <td>3</td>\n      <td>3</td>\n      <td>3</td>\n    </tr>\n  </tbody>\n</table>\n</div>",
      "text/plain": "                           Name  Sport  Event  Medal  Gold  Silver  Bronze\nGames       NOC region                                                    \n1896 Summer AUS Australia     1      2      5      3     2       0       1\n            AUT Austria       3      3      8      5     2       1       2\n            DEN Denmark       3      5     12      6     1       2       3\n            FRA France       12      6     18     11     5       4       2\n            GBR UK           10      7     19      9     3       3       3"
     },
     "execution_count": 6,
     "metadata": {},
     "output_type": "execute_result"
    }
   ],
   "source": [
    "# total medal count by games and country\n",
    "df     = merge.groupby(['Games','NOC','region','Event'])['Gold','Silver','Bronze'].sum()\n",
    "df     = df.clip(upper=1)\n",
    "df     = df.groupby(['Games','NOC','region']).sum()\n",
    "medals = medals.merge(df, left_index=True, right_index=True)\n",
    "medals.head()"
   ]
  },
  {
   "cell_type": "code",
   "execution_count": 7,
   "metadata": {},
   "outputs": [
    {
     "name": "stderr",
     "output_type": "stream",
     "text": [
      "<ipython-input-7-f4631c6083c4>:2: FutureWarning: Indexing with multiple keys (implicitly converted to a tuple of keys) will be deprecated, use a list instead.\n",
      "  df     = pd.DataFrame(merge.groupby(['Games','NOC','region'])['Summer','Year','Home Field'].mean())\n"
     ]
    },
    {
     "data": {
      "text/html": "<div>\n<style scoped>\n    .dataframe tbody tr th:only-of-type {\n        vertical-align: middle;\n    }\n\n    .dataframe tbody tr th {\n        vertical-align: top;\n    }\n\n    .dataframe thead th {\n        text-align: right;\n    }\n</style>\n<table border=\"1\" class=\"dataframe\">\n  <thead>\n    <tr style=\"text-align: right;\">\n      <th></th>\n      <th></th>\n      <th></th>\n      <th>Name</th>\n      <th>Sport</th>\n      <th>Event</th>\n      <th>Medal</th>\n      <th>Gold</th>\n      <th>Silver</th>\n      <th>Bronze</th>\n      <th>Summer</th>\n      <th>Year</th>\n      <th>Home Field</th>\n    </tr>\n    <tr>\n      <th>Games</th>\n      <th>NOC</th>\n      <th>region</th>\n      <th></th>\n      <th></th>\n      <th></th>\n      <th></th>\n      <th></th>\n      <th></th>\n      <th></th>\n      <th></th>\n      <th></th>\n      <th></th>\n    </tr>\n  </thead>\n  <tbody>\n    <tr>\n      <th rowspan=\"5\" valign=\"top\">1896 Summer</th>\n      <th>AUS</th>\n      <th>Australia</th>\n      <td>1</td>\n      <td>2</td>\n      <td>5</td>\n      <td>3</td>\n      <td>2</td>\n      <td>0</td>\n      <td>1</td>\n      <td>1.0</td>\n      <td>1896</td>\n      <td>0.0</td>\n    </tr>\n    <tr>\n      <th>AUT</th>\n      <th>Austria</th>\n      <td>3</td>\n      <td>3</td>\n      <td>8</td>\n      <td>5</td>\n      <td>2</td>\n      <td>1</td>\n      <td>2</td>\n      <td>1.0</td>\n      <td>1896</td>\n      <td>0.0</td>\n    </tr>\n    <tr>\n      <th>DEN</th>\n      <th>Denmark</th>\n      <td>3</td>\n      <td>5</td>\n      <td>12</td>\n      <td>6</td>\n      <td>1</td>\n      <td>2</td>\n      <td>3</td>\n      <td>1.0</td>\n      <td>1896</td>\n      <td>0.0</td>\n    </tr>\n    <tr>\n      <th>FRA</th>\n      <th>France</th>\n      <td>12</td>\n      <td>6</td>\n      <td>18</td>\n      <td>11</td>\n      <td>5</td>\n      <td>4</td>\n      <td>2</td>\n      <td>1.0</td>\n      <td>1896</td>\n      <td>0.0</td>\n    </tr>\n    <tr>\n      <th>GBR</th>\n      <th>UK</th>\n      <td>10</td>\n      <td>7</td>\n      <td>19</td>\n      <td>9</td>\n      <td>3</td>\n      <td>3</td>\n      <td>3</td>\n      <td>1.0</td>\n      <td>1896</td>\n      <td>0.0</td>\n    </tr>\n  </tbody>\n</table>\n</div>",
      "text/plain": "                           Name  Sport  Event  Medal  Gold  Silver  Bronze  \\\nGames       NOC region                                                       \n1896 Summer AUS Australia     1      2      5      3     2       0       1   \n            AUT Austria       3      3      8      5     2       1       2   \n            DEN Denmark       3      5     12      6     1       2       3   \n            FRA France       12      6     18     11     5       4       2   \n            GBR UK           10      7     19      9     3       3       3   \n\n                           Summer  Year  Home Field  \nGames       NOC region                               \n1896 Summer AUS Australia     1.0  1896         0.0  \n            AUT Austria       1.0  1896         0.0  \n            DEN Denmark       1.0  1896         0.0  \n            FRA France        1.0  1896         0.0  \n            GBR UK            1.0  1896         0.0  "
     },
     "execution_count": 7,
     "metadata": {},
     "output_type": "execute_result"
    }
   ],
   "source": [
    "# season, year and home-field advantage by games and country\n",
    "df     = pd.DataFrame(merge.groupby(['Games','NOC','region'])['Summer','Year','Home Field'].mean())\n",
    "medals = medals.merge(df, left_index=True, right_index=True)\n",
    "medals.head()"
   ]
  },
  {
   "cell_type": "code",
   "execution_count": 8,
   "metadata": {},
   "outputs": [
    {
     "data": {
      "text/html": "<div>\n<style scoped>\n    .dataframe tbody tr th:only-of-type {\n        vertical-align: middle;\n    }\n\n    .dataframe tbody tr th {\n        vertical-align: top;\n    }\n\n    .dataframe thead th {\n        text-align: right;\n    }\n</style>\n<table border=\"1\" class=\"dataframe\">\n  <thead>\n    <tr style=\"text-align: right;\">\n      <th></th>\n      <th>Games</th>\n      <th>NOC</th>\n      <th>region</th>\n      <th>Name</th>\n      <th>Sport</th>\n      <th>Event</th>\n      <th>Medal</th>\n      <th>Gold</th>\n      <th>Silver</th>\n      <th>Bronze</th>\n      <th>Summer</th>\n      <th>Year</th>\n      <th>Home Field</th>\n    </tr>\n  </thead>\n  <tbody>\n    <tr>\n      <th>0</th>\n      <td>1896 Summer</td>\n      <td>AUS</td>\n      <td>Australia</td>\n      <td>1</td>\n      <td>2</td>\n      <td>5</td>\n      <td>3</td>\n      <td>2</td>\n      <td>0</td>\n      <td>1</td>\n      <td>1</td>\n      <td>1896</td>\n      <td>0</td>\n    </tr>\n    <tr>\n      <th>1</th>\n      <td>1896 Summer</td>\n      <td>AUT</td>\n      <td>Austria</td>\n      <td>3</td>\n      <td>3</td>\n      <td>8</td>\n      <td>5</td>\n      <td>2</td>\n      <td>1</td>\n      <td>2</td>\n      <td>1</td>\n      <td>1896</td>\n      <td>0</td>\n    </tr>\n    <tr>\n      <th>2</th>\n      <td>1896 Summer</td>\n      <td>DEN</td>\n      <td>Denmark</td>\n      <td>3</td>\n      <td>5</td>\n      <td>12</td>\n      <td>6</td>\n      <td>1</td>\n      <td>2</td>\n      <td>3</td>\n      <td>1</td>\n      <td>1896</td>\n      <td>0</td>\n    </tr>\n    <tr>\n      <th>3</th>\n      <td>1896 Summer</td>\n      <td>FRA</td>\n      <td>France</td>\n      <td>12</td>\n      <td>6</td>\n      <td>18</td>\n      <td>11</td>\n      <td>5</td>\n      <td>4</td>\n      <td>2</td>\n      <td>1</td>\n      <td>1896</td>\n      <td>0</td>\n    </tr>\n    <tr>\n      <th>4</th>\n      <td>1896 Summer</td>\n      <td>GBR</td>\n      <td>UK</td>\n      <td>10</td>\n      <td>7</td>\n      <td>19</td>\n      <td>9</td>\n      <td>3</td>\n      <td>3</td>\n      <td>3</td>\n      <td>1</td>\n      <td>1896</td>\n      <td>0</td>\n    </tr>\n  </tbody>\n</table>\n</div>",
      "text/plain": "         Games  NOC     region  Name  Sport  Event  Medal  Gold  Silver  \\\n0  1896 Summer  AUS  Australia     1      2      5      3     2       0   \n1  1896 Summer  AUT    Austria     3      3      8      5     2       1   \n2  1896 Summer  DEN    Denmark     3      5     12      6     1       2   \n3  1896 Summer  FRA     France    12      6     18     11     5       4   \n4  1896 Summer  GBR         UK    10      7     19      9     3       3   \n\n   Bronze  Summer  Year  Home Field  \n0       1       1  1896           0  \n1       2       1  1896           0  \n2       3       1  1896           0  \n3       2       1  1896           0  \n4       3       1  1896           0  "
     },
     "execution_count": 8,
     "metadata": {},
     "output_type": "execute_result"
    }
   ],
   "source": [
    "medals = medals.reset_index()\n",
    "medals['Gold']       = medals['Gold'].astype('int64')\n",
    "medals['Silver']     = medals['Silver'].astype('int64')\n",
    "medals['Bronze']     = medals['Bronze'].astype('int64')\n",
    "medals['Summer']     = medals['Summer'].astype('int64')\n",
    "medals['Home Field'] = medals['Home Field'].astype('int64')\n",
    "medals.head()"
   ]
  },
  {
   "cell_type": "code",
   "execution_count": 9,
   "metadata": {},
   "outputs": [
    {
     "data": {
      "text/html": "<div>\n<style scoped>\n    .dataframe tbody tr th:only-of-type {\n        vertical-align: middle;\n    }\n\n    .dataframe tbody tr th {\n        vertical-align: top;\n    }\n\n    .dataframe thead th {\n        text-align: right;\n    }\n</style>\n<table border=\"1\" class=\"dataframe\">\n  <thead>\n    <tr style=\"text-align: right;\">\n      <th></th>\n      <th>Games</th>\n      <th>NOC</th>\n      <th>region</th>\n      <th>Name</th>\n      <th>Sports</th>\n      <th>Events</th>\n      <th>Medals</th>\n      <th>Golds</th>\n      <th>Silvers</th>\n      <th>Bronzes</th>\n      <th>Summer</th>\n      <th>Year</th>\n      <th>Host</th>\n    </tr>\n  </thead>\n  <tbody>\n    <tr>\n      <th>0</th>\n      <td>1896 Summer</td>\n      <td>AUS</td>\n      <td>Australia</td>\n      <td>1</td>\n      <td>2</td>\n      <td>5</td>\n      <td>3</td>\n      <td>2</td>\n      <td>0</td>\n      <td>1</td>\n      <td>1</td>\n      <td>1896</td>\n      <td>0</td>\n    </tr>\n    <tr>\n      <th>1</th>\n      <td>1896 Summer</td>\n      <td>AUT</td>\n      <td>Austria</td>\n      <td>3</td>\n      <td>3</td>\n      <td>8</td>\n      <td>5</td>\n      <td>2</td>\n      <td>1</td>\n      <td>2</td>\n      <td>1</td>\n      <td>1896</td>\n      <td>0</td>\n    </tr>\n    <tr>\n      <th>2</th>\n      <td>1896 Summer</td>\n      <td>DEN</td>\n      <td>Denmark</td>\n      <td>3</td>\n      <td>5</td>\n      <td>12</td>\n      <td>6</td>\n      <td>1</td>\n      <td>2</td>\n      <td>3</td>\n      <td>1</td>\n      <td>1896</td>\n      <td>0</td>\n    </tr>\n    <tr>\n      <th>3</th>\n      <td>1896 Summer</td>\n      <td>FRA</td>\n      <td>France</td>\n      <td>12</td>\n      <td>6</td>\n      <td>18</td>\n      <td>11</td>\n      <td>5</td>\n      <td>4</td>\n      <td>2</td>\n      <td>1</td>\n      <td>1896</td>\n      <td>0</td>\n    </tr>\n    <tr>\n      <th>4</th>\n      <td>1896 Summer</td>\n      <td>GBR</td>\n      <td>UK</td>\n      <td>10</td>\n      <td>7</td>\n      <td>19</td>\n      <td>9</td>\n      <td>3</td>\n      <td>3</td>\n      <td>3</td>\n      <td>1</td>\n      <td>1896</td>\n      <td>0</td>\n    </tr>\n  </tbody>\n</table>\n</div>",
      "text/plain": "         Games  NOC     region  Name  Sports  Events  Medals  Golds  Silvers  \\\n0  1896 Summer  AUS  Australia     1       2       5       3      2        0   \n1  1896 Summer  AUT    Austria     3       3       8       5      2        1   \n2  1896 Summer  DEN    Denmark     3       5      12       6      1        2   \n3  1896 Summer  FRA     France    12       6      18      11      5        4   \n4  1896 Summer  GBR         UK    10       7      19       9      3        3   \n\n   Bronzes  Summer  Year  Host  \n0        1       1  1896     0  \n1        2       1  1896     0  \n2        3       1  1896     0  \n3        2       1  1896     0  \n4        3       1  1896     0  "
     },
     "execution_count": 9,
     "metadata": {},
     "output_type": "execute_result"
    }
   ],
   "source": [
    "medals = medals.rename(columns={'Name':    'Name',\n",
    "                                'Medal':      'Medals',\n",
    "                                'Gold':       'Golds',\n",
    "                                'Silver':     'Silvers',\n",
    "                                'Bronze':     'Bronzes',\n",
    "                                'Sport':      'Sports',\n",
    "                                'Event':      'Events',\n",
    "                                'Home Field': 'Host'})\n",
    "medals.head()"
   ]
  },
  {
   "cell_type": "code",
   "execution_count": 10,
   "metadata": {},
   "outputs": [
    {
     "data": {
      "text/html": "<div>\n<style scoped>\n    .dataframe tbody tr th:only-of-type {\n        vertical-align: middle;\n    }\n\n    .dataframe tbody tr th {\n        vertical-align: top;\n    }\n\n    .dataframe thead th {\n        text-align: right;\n    }\n</style>\n<table border=\"1\" class=\"dataframe\">\n  <thead>\n    <tr style=\"text-align: right;\">\n      <th></th>\n      <th>Year</th>\n      <th>Summer</th>\n      <th>Games</th>\n      <th>Host</th>\n      <th>NOC</th>\n      <th>region</th>\n      <th>Name</th>\n      <th>Sports</th>\n      <th>Events</th>\n      <th>Medals</th>\n      <th>Golds</th>\n      <th>Silvers</th>\n      <th>Bronzes</th>\n    </tr>\n  </thead>\n  <tbody>\n    <tr>\n      <th>0</th>\n      <td>1896</td>\n      <td>1</td>\n      <td>1896 Summer</td>\n      <td>0</td>\n      <td>AUS</td>\n      <td>Australia</td>\n      <td>1</td>\n      <td>2</td>\n      <td>5</td>\n      <td>3</td>\n      <td>2</td>\n      <td>0</td>\n      <td>1</td>\n    </tr>\n    <tr>\n      <th>1</th>\n      <td>1896</td>\n      <td>1</td>\n      <td>1896 Summer</td>\n      <td>0</td>\n      <td>AUT</td>\n      <td>Austria</td>\n      <td>3</td>\n      <td>3</td>\n      <td>8</td>\n      <td>5</td>\n      <td>2</td>\n      <td>1</td>\n      <td>2</td>\n    </tr>\n    <tr>\n      <th>2</th>\n      <td>1896</td>\n      <td>1</td>\n      <td>1896 Summer</td>\n      <td>0</td>\n      <td>DEN</td>\n      <td>Denmark</td>\n      <td>3</td>\n      <td>5</td>\n      <td>12</td>\n      <td>6</td>\n      <td>1</td>\n      <td>2</td>\n      <td>3</td>\n    </tr>\n    <tr>\n      <th>3</th>\n      <td>1896</td>\n      <td>1</td>\n      <td>1896 Summer</td>\n      <td>0</td>\n      <td>FRA</td>\n      <td>France</td>\n      <td>12</td>\n      <td>6</td>\n      <td>18</td>\n      <td>11</td>\n      <td>5</td>\n      <td>4</td>\n      <td>2</td>\n    </tr>\n    <tr>\n      <th>4</th>\n      <td>1896</td>\n      <td>1</td>\n      <td>1896 Summer</td>\n      <td>0</td>\n      <td>GBR</td>\n      <td>UK</td>\n      <td>10</td>\n      <td>7</td>\n      <td>19</td>\n      <td>9</td>\n      <td>3</td>\n      <td>3</td>\n      <td>3</td>\n    </tr>\n  </tbody>\n</table>\n</div>",
      "text/plain": "   Year  Summer        Games  Host  NOC     region  Name  Sports  Events  \\\n0  1896       1  1896 Summer     0  AUS  Australia     1       2       5   \n1  1896       1  1896 Summer     0  AUT    Austria     3       3       8   \n2  1896       1  1896 Summer     0  DEN    Denmark     3       5      12   \n3  1896       1  1896 Summer     0  FRA     France    12       6      18   \n4  1896       1  1896 Summer     0  GBR         UK    10       7      19   \n\n   Medals  Golds  Silvers  Bronzes  \n0       3      2        0        1  \n1       5      2        1        2  \n2       6      1        2        3  \n3      11      5        4        2  \n4       9      3        3        3  "
     },
     "execution_count": 10,
     "metadata": {},
     "output_type": "execute_result"
    }
   ],
   "source": [
    "medals = medals[['Year',\n",
    "                 'Summer',\n",
    "                 'Games',\n",
    "                 'Host',\n",
    "                 'NOC',\n",
    "                 'region',\n",
    "                 'Name',\n",
    "                 'Sports',\n",
    "                 'Events',\n",
    "                 'Medals',\n",
    "                 'Golds',\n",
    "                 'Silvers',\n",
    "                 'Bronzes']]\n",
    "medals.head()"
   ]
  },
  {
   "cell_type": "code",
   "execution_count": 14,
   "metadata": {},
   "outputs": [
    {
     "data": {
      "image/png": "[encoded data removed]",
      "text/plain": "<Figure size 864x648 with 2 Axes>"
     },
     "metadata": {
      "needs_background": "light"
     },
     "output_type": "display_data"
    }
   ],
   "source": [
    "#correlation matrix\n",
    "corrmat = medals.corr()\n",
    "f, ax = plt.subplots(figsize=(12, 9))\n",
    "sns.heatmap(corrmat, vmax=.9)\n",
    "plt.savefig('../Static/Images/heatmap.png')\n"
   ]
  },
  {
   "cell_type": "code",
   "execution_count": 15,
   "metadata": {},
   "outputs": [
    {
     "data": {
      "text/html": "<div>\n<style scoped>\n    .dataframe tbody tr th:only-of-type {\n        vertical-align: middle;\n    }\n\n    .dataframe tbody tr th {\n        vertical-align: top;\n    }\n\n    .dataframe thead th {\n        text-align: right;\n    }\n</style>\n<table border=\"1\" class=\"dataframe\">\n  <thead>\n    <tr style=\"text-align: right;\">\n      <th></th>\n      <th>Year</th>\n      <th>Summer</th>\n      <th>Games</th>\n      <th>Host</th>\n      <th>NOC</th>\n      <th>region</th>\n      <th>Name</th>\n      <th>Sports</th>\n      <th>Events</th>\n      <th>Medals</th>\n      <th>Golds</th>\n      <th>Silvers</th>\n      <th>Bronzes</th>\n      <th>Name Event</th>\n    </tr>\n  </thead>\n  <tbody>\n    <tr>\n      <th>0</th>\n      <td>1896</td>\n      <td>1</td>\n      <td>1896 Summer</td>\n      <td>0</td>\n      <td>AUS</td>\n      <td>Australia</td>\n      <td>1</td>\n      <td>2</td>\n      <td>5</td>\n      <td>3</td>\n      <td>2</td>\n      <td>0</td>\n      <td>1</td>\n      <td>0.200</td>\n    </tr>\n    <tr>\n      <th>1</th>\n      <td>1896</td>\n      <td>1</td>\n      <td>1896 Summer</td>\n      <td>0</td>\n      <td>AUT</td>\n      <td>Austria</td>\n      <td>3</td>\n      <td>3</td>\n      <td>8</td>\n      <td>5</td>\n      <td>2</td>\n      <td>1</td>\n      <td>2</td>\n      <td>0.375</td>\n    </tr>\n    <tr>\n      <th>2</th>\n      <td>1896</td>\n      <td>1</td>\n      <td>1896 Summer</td>\n      <td>0</td>\n      <td>DEN</td>\n      <td>Denmark</td>\n      <td>3</td>\n      <td>5</td>\n      <td>12</td>\n      <td>6</td>\n      <td>1</td>\n      <td>2</td>\n      <td>3</td>\n      <td>0.250</td>\n    </tr>\n    <tr>\n      <th>3</th>\n      <td>1896</td>\n      <td>1</td>\n      <td>1896 Summer</td>\n      <td>0</td>\n      <td>FRA</td>\n      <td>France</td>\n      <td>12</td>\n      <td>6</td>\n      <td>18</td>\n      <td>11</td>\n      <td>5</td>\n      <td>4</td>\n      <td>2</td>\n      <td>0.667</td>\n    </tr>\n    <tr>\n      <th>4</th>\n      <td>1896</td>\n      <td>1</td>\n      <td>1896 Summer</td>\n      <td>0</td>\n      <td>GBR</td>\n      <td>UK</td>\n      <td>10</td>\n      <td>7</td>\n      <td>19</td>\n      <td>9</td>\n      <td>3</td>\n      <td>3</td>\n      <td>3</td>\n      <td>0.526</td>\n    </tr>\n  </tbody>\n</table>\n</div>",
      "text/plain": "   Year  Summer        Games  Host  NOC     region  Name  Sports  Events  \\\n0  1896       1  1896 Summer     0  AUS  Australia     1       2       5   \n1  1896       1  1896 Summer     0  AUT    Austria     3       3       8   \n2  1896       1  1896 Summer     0  DEN    Denmark     3       5      12   \n3  1896       1  1896 Summer     0  FRA     France    12       6      18   \n4  1896       1  1896 Summer     0  GBR         UK    10       7      19   \n\n   Medals  Golds  Silvers  Bronzes  Name Event  \n0       3      2        0        1       0.200  \n1       5      2        1        2       0.375  \n2       6      1        2        3       0.250  \n3      11      5        4        2       0.667  \n4       9      3        3        3       0.526  "
     },
     "execution_count": 15,
     "metadata": {},
     "output_type": "execute_result"
    }
   ],
   "source": [
    "medals['Name Event'] = (medals['Name'] / medals['Events']).round(3)\n",
    "medals.head()"
   ]
  },
  {
   "cell_type": "code",
   "execution_count": 16,
   "metadata": {},
   "outputs": [
    {
     "data": {
      "text/html": "<div>\n<style scoped>\n    .dataframe tbody tr th:only-of-type {\n        vertical-align: middle;\n    }\n\n    .dataframe tbody tr th {\n        vertical-align: top;\n    }\n\n    .dataframe thead th {\n        text-align: right;\n    }\n</style>\n<table border=\"1\" class=\"dataframe\">\n  <thead>\n    <tr style=\"text-align: right;\">\n      <th></th>\n      <th>Year</th>\n      <th>Summer</th>\n      <th>Games</th>\n      <th>Host</th>\n      <th>region</th>\n      <th>Name</th>\n      <th>Sports</th>\n      <th>Events</th>\n      <th>Medals</th>\n      <th>Golds</th>\n      <th>...</th>\n      <th>NOC_VIN</th>\n      <th>NOC_VNM</th>\n      <th>NOC_WIF</th>\n      <th>NOC_YAR</th>\n      <th>NOC_YEM</th>\n      <th>NOC_YMD</th>\n      <th>NOC_YUG</th>\n      <th>NOC_ZAM</th>\n      <th>NOC_ZIM</th>\n      <th>NOC</th>\n    </tr>\n  </thead>\n  <tbody>\n    <tr>\n      <th>0</th>\n      <td>1896</td>\n      <td>1</td>\n      <td>1896 Summer</td>\n      <td>0</td>\n      <td>Australia</td>\n      <td>1</td>\n      <td>2</td>\n      <td>5</td>\n      <td>3</td>\n      <td>2</td>\n      <td>...</td>\n      <td>0</td>\n      <td>0</td>\n      <td>0</td>\n      <td>0</td>\n      <td>0</td>\n      <td>0</td>\n      <td>0</td>\n      <td>0</td>\n      <td>0</td>\n      <td>AUS</td>\n    </tr>\n    <tr>\n      <th>1</th>\n      <td>1896</td>\n      <td>1</td>\n      <td>1896 Summer</td>\n      <td>0</td>\n      <td>Austria</td>\n      <td>3</td>\n      <td>3</td>\n      <td>8</td>\n      <td>5</td>\n      <td>2</td>\n      <td>...</td>\n      <td>0</td>\n      <td>0</td>\n      <td>0</td>\n      <td>0</td>\n      <td>0</td>\n      <td>0</td>\n      <td>0</td>\n      <td>0</td>\n      <td>0</td>\n      <td>AUT</td>\n    </tr>\n    <tr>\n      <th>2</th>\n      <td>1896</td>\n      <td>1</td>\n      <td>1896 Summer</td>\n      <td>0</td>\n      <td>Denmark</td>\n      <td>3</td>\n      <td>5</td>\n      <td>12</td>\n      <td>6</td>\n      <td>1</td>\n      <td>...</td>\n      <td>0</td>\n      <td>0</td>\n      <td>0</td>\n      <td>0</td>\n      <td>0</td>\n      <td>0</td>\n      <td>0</td>\n      <td>0</td>\n      <td>0</td>\n      <td>DEN</td>\n    </tr>\n    <tr>\n      <th>3</th>\n      <td>1896</td>\n      <td>1</td>\n      <td>1896 Summer</td>\n      <td>0</td>\n      <td>France</td>\n      <td>12</td>\n      <td>6</td>\n      <td>18</td>\n      <td>11</td>\n      <td>5</td>\n      <td>...</td>\n      <td>0</td>\n      <td>0</td>\n      <td>0</td>\n      <td>0</td>\n      <td>0</td>\n      <td>0</td>\n      <td>0</td>\n      <td>0</td>\n      <td>0</td>\n      <td>FRA</td>\n    </tr>\n    <tr>\n      <th>4</th>\n      <td>1896</td>\n      <td>1</td>\n      <td>1896 Summer</td>\n      <td>0</td>\n      <td>UK</td>\n      <td>10</td>\n      <td>7</td>\n      <td>19</td>\n      <td>9</td>\n      <td>3</td>\n      <td>...</td>\n      <td>0</td>\n      <td>0</td>\n      <td>0</td>\n      <td>0</td>\n      <td>0</td>\n      <td>0</td>\n      <td>0</td>\n      <td>0</td>\n      <td>0</td>\n      <td>GBR</td>\n    </tr>\n    <tr>\n      <th>...</th>\n      <td>...</td>\n      <td>...</td>\n      <td>...</td>\n      <td>...</td>\n      <td>...</td>\n      <td>...</td>\n      <td>...</td>\n      <td>...</td>\n      <td>...</td>\n      <td>...</td>\n      <td>...</td>\n      <td>...</td>\n      <td>...</td>\n      <td>...</td>\n      <td>...</td>\n      <td>...</td>\n      <td>...</td>\n      <td>...</td>\n      <td>...</td>\n      <td>...</td>\n      <td>...</td>\n    </tr>\n    <tr>\n      <th>3827</th>\n      <td>2016</td>\n      <td>1</td>\n      <td>2016 Summer</td>\n      <td>0</td>\n      <td>Vietnam</td>\n      <td>22</td>\n      <td>10</td>\n      <td>24</td>\n      <td>2</td>\n      <td>1</td>\n      <td>...</td>\n      <td>0</td>\n      <td>0</td>\n      <td>0</td>\n      <td>0</td>\n      <td>0</td>\n      <td>0</td>\n      <td>0</td>\n      <td>0</td>\n      <td>0</td>\n      <td>VIE</td>\n    </tr>\n    <tr>\n      <th>3828</th>\n      <td>2016</td>\n      <td>1</td>\n      <td>2016 Summer</td>\n      <td>0</td>\n      <td>Saint Vincent</td>\n      <td>4</td>\n      <td>2</td>\n      <td>4</td>\n      <td>0</td>\n      <td>0</td>\n      <td>...</td>\n      <td>1</td>\n      <td>0</td>\n      <td>0</td>\n      <td>0</td>\n      <td>0</td>\n      <td>0</td>\n      <td>0</td>\n      <td>0</td>\n      <td>0</td>\n      <td>VIN</td>\n    </tr>\n    <tr>\n      <th>3829</th>\n      <td>2016</td>\n      <td>1</td>\n      <td>2016 Summer</td>\n      <td>0</td>\n      <td>Yemen</td>\n      <td>3</td>\n      <td>3</td>\n      <td>3</td>\n      <td>0</td>\n      <td>0</td>\n      <td>...</td>\n      <td>0</td>\n      <td>0</td>\n      <td>0</td>\n      <td>0</td>\n      <td>1</td>\n      <td>0</td>\n      <td>0</td>\n      <td>0</td>\n      <td>0</td>\n      <td>YEM</td>\n    </tr>\n    <tr>\n      <th>3830</th>\n      <td>2016</td>\n      <td>1</td>\n      <td>2016 Summer</td>\n      <td>0</td>\n      <td>Zambia</td>\n      <td>7</td>\n      <td>4</td>\n      <td>7</td>\n      <td>0</td>\n      <td>0</td>\n      <td>...</td>\n      <td>0</td>\n      <td>0</td>\n      <td>0</td>\n      <td>0</td>\n      <td>0</td>\n      <td>0</td>\n      <td>0</td>\n      <td>1</td>\n      <td>0</td>\n      <td>ZAM</td>\n    </tr>\n    <tr>\n      <th>3831</th>\n      <td>2016</td>\n      <td>1</td>\n      <td>2016 Summer</td>\n      <td>0</td>\n      <td>Zimbabwe</td>\n      <td>30</td>\n      <td>7</td>\n      <td>13</td>\n      <td>0</td>\n      <td>0</td>\n      <td>...</td>\n      <td>0</td>\n      <td>0</td>\n      <td>0</td>\n      <td>0</td>\n      <td>0</td>\n      <td>0</td>\n      <td>0</td>\n      <td>0</td>\n      <td>1</td>\n      <td>ZIM</td>\n    </tr>\n  </tbody>\n</table>\n<p>3832 rows × 241 columns</p>\n</div>",
      "text/plain": "      Year  Summer        Games  Host         region  Name  Sports  Events  \\\n0     1896       1  1896 Summer     0      Australia     1       2       5   \n1     1896       1  1896 Summer     0        Austria     3       3       8   \n2     1896       1  1896 Summer     0        Denmark     3       5      12   \n3     1896       1  1896 Summer     0         France    12       6      18   \n4     1896       1  1896 Summer     0             UK    10       7      19   \n...    ...     ...          ...   ...            ...   ...     ...     ...   \n3827  2016       1  2016 Summer     0        Vietnam    22      10      24   \n3828  2016       1  2016 Summer     0  Saint Vincent     4       2       4   \n3829  2016       1  2016 Summer     0          Yemen     3       3       3   \n3830  2016       1  2016 Summer     0         Zambia     7       4       7   \n3831  2016       1  2016 Summer     0       Zimbabwe    30       7      13   \n\n      Medals  Golds  ...  NOC_VIN  NOC_VNM  NOC_WIF  NOC_YAR  NOC_YEM  \\\n0          3      2  ...        0        0        0        0        0   \n1          5      2  ...        0        0        0        0        0   \n2          6      1  ...        0        0        0        0        0   \n3         11      5  ...        0        0        0        0        0   \n4          9      3  ...        0        0        0        0        0   \n...      ...    ...  ...      ...      ...      ...      ...      ...   \n3827       2      1  ...        0        0        0        0        0   \n3828       0      0  ...        1        0        0        0        0   \n3829       0      0  ...        0        0        0        0        1   \n3830       0      0  ...        0        0        0        0        0   \n3831       0      0  ...        0        0        0        0        0   \n\n      NOC_YMD  NOC_YUG  NOC_ZAM  NOC_ZIM  NOC  \n0           0        0        0        0  AUS  \n1           0        0        0        0  AUT  \n2           0        0        0        0  DEN  \n3           0        0        0        0  FRA  \n4           0        0        0        0  GBR  \n...       ...      ...      ...      ...  ...  \n3827        0        0        0        0  VIE  \n3828        0        0        0        0  VIN  \n3829        0        0        0        0  YEM  \n3830        0        0        1        0  ZAM  \n3831        0        0        0        1  ZIM  \n\n[3832 rows x 241 columns]"
     },
     "execution_count": 16,
     "metadata": {},
     "output_type": "execute_result"
    }
   ],
   "source": [
    "model        = pd.get_dummies(data=medals, columns=['NOC'])\n",
    "model['NOC'] = medals['NOC']\n",
    "model"
   ]
  },
  {
   "cell_type": "code",
   "execution_count": 17,
   "metadata": {},
   "outputs": [
    {
     "data": {
      "text/html": "<div>\n<style scoped>\n    .dataframe tbody tr th:only-of-type {\n        vertical-align: middle;\n    }\n\n    .dataframe tbody tr th {\n        vertical-align: top;\n    }\n\n    .dataframe thead th {\n        text-align: right;\n    }\n</style>\n<table border=\"1\" class=\"dataframe\">\n  <thead>\n    <tr style=\"text-align: right;\">\n      <th></th>\n      <th>Year</th>\n      <th>Summer</th>\n      <th>Games</th>\n      <th>Host</th>\n      <th>region</th>\n      <th>Name</th>\n      <th>Sports</th>\n      <th>Events</th>\n      <th>Medals</th>\n      <th>Golds</th>\n      <th>...</th>\n      <th>NOC_VIN</th>\n      <th>NOC_VNM</th>\n      <th>NOC_WIF</th>\n      <th>NOC_YAR</th>\n      <th>NOC_YEM</th>\n      <th>NOC_YMD</th>\n      <th>NOC_YUG</th>\n      <th>NOC_ZAM</th>\n      <th>NOC_ZIM</th>\n      <th>NOC</th>\n    </tr>\n  </thead>\n  <tbody>\n    <tr>\n      <th>0</th>\n      <td>1896</td>\n      <td>1</td>\n      <td>1896 Summer</td>\n      <td>0</td>\n      <td>Australia</td>\n      <td>1</td>\n      <td>2</td>\n      <td>5</td>\n      <td>3</td>\n      <td>2</td>\n      <td>...</td>\n      <td>0</td>\n      <td>0</td>\n      <td>0</td>\n      <td>0</td>\n      <td>0</td>\n      <td>0</td>\n      <td>0</td>\n      <td>0</td>\n      <td>0</td>\n      <td>AUS</td>\n    </tr>\n    <tr>\n      <th>1</th>\n      <td>1896</td>\n      <td>1</td>\n      <td>1896 Summer</td>\n      <td>0</td>\n      <td>Austria</td>\n      <td>3</td>\n      <td>3</td>\n      <td>8</td>\n      <td>5</td>\n      <td>2</td>\n      <td>...</td>\n      <td>0</td>\n      <td>0</td>\n      <td>0</td>\n      <td>0</td>\n      <td>0</td>\n      <td>0</td>\n      <td>0</td>\n      <td>0</td>\n      <td>0</td>\n      <td>AUT</td>\n    </tr>\n    <tr>\n      <th>2</th>\n      <td>1896</td>\n      <td>1</td>\n      <td>1896 Summer</td>\n      <td>0</td>\n      <td>Denmark</td>\n      <td>3</td>\n      <td>5</td>\n      <td>12</td>\n      <td>6</td>\n      <td>1</td>\n      <td>...</td>\n      <td>0</td>\n      <td>0</td>\n      <td>0</td>\n      <td>0</td>\n      <td>0</td>\n      <td>0</td>\n      <td>0</td>\n      <td>0</td>\n      <td>0</td>\n      <td>DEN</td>\n    </tr>\n    <tr>\n      <th>3</th>\n      <td>1896</td>\n      <td>1</td>\n      <td>1896 Summer</td>\n      <td>0</td>\n      <td>France</td>\n      <td>12</td>\n      <td>6</td>\n      <td>18</td>\n      <td>11</td>\n      <td>5</td>\n      <td>...</td>\n      <td>0</td>\n      <td>0</td>\n      <td>0</td>\n      <td>0</td>\n      <td>0</td>\n      <td>0</td>\n      <td>0</td>\n      <td>0</td>\n      <td>0</td>\n      <td>FRA</td>\n    </tr>\n    <tr>\n      <th>4</th>\n      <td>1896</td>\n      <td>1</td>\n      <td>1896 Summer</td>\n      <td>0</td>\n      <td>UK</td>\n      <td>10</td>\n      <td>7</td>\n      <td>19</td>\n      <td>9</td>\n      <td>3</td>\n      <td>...</td>\n      <td>0</td>\n      <td>0</td>\n      <td>0</td>\n      <td>0</td>\n      <td>0</td>\n      <td>0</td>\n      <td>0</td>\n      <td>0</td>\n      <td>0</td>\n      <td>GBR</td>\n    </tr>\n    <tr>\n      <th>...</th>\n      <td>...</td>\n      <td>...</td>\n      <td>...</td>\n      <td>...</td>\n      <td>...</td>\n      <td>...</td>\n      <td>...</td>\n      <td>...</td>\n      <td>...</td>\n      <td>...</td>\n      <td>...</td>\n      <td>...</td>\n      <td>...</td>\n      <td>...</td>\n      <td>...</td>\n      <td>...</td>\n      <td>...</td>\n      <td>...</td>\n      <td>...</td>\n      <td>...</td>\n      <td>...</td>\n    </tr>\n    <tr>\n      <th>3827</th>\n      <td>2016</td>\n      <td>1</td>\n      <td>2016 Summer</td>\n      <td>0</td>\n      <td>Vietnam</td>\n      <td>22</td>\n      <td>10</td>\n      <td>24</td>\n      <td>2</td>\n      <td>1</td>\n      <td>...</td>\n      <td>0</td>\n      <td>0</td>\n      <td>0</td>\n      <td>0</td>\n      <td>0</td>\n      <td>0</td>\n      <td>0</td>\n      <td>0</td>\n      <td>0</td>\n      <td>VIE</td>\n    </tr>\n    <tr>\n      <th>3828</th>\n      <td>2016</td>\n      <td>1</td>\n      <td>2016 Summer</td>\n      <td>0</td>\n      <td>Saint Vincent</td>\n      <td>4</td>\n      <td>2</td>\n      <td>4</td>\n      <td>0</td>\n      <td>0</td>\n      <td>...</td>\n      <td>1</td>\n      <td>0</td>\n      <td>0</td>\n      <td>0</td>\n      <td>0</td>\n      <td>0</td>\n      <td>0</td>\n      <td>0</td>\n      <td>0</td>\n      <td>VIN</td>\n    </tr>\n    <tr>\n      <th>3829</th>\n      <td>2016</td>\n      <td>1</td>\n      <td>2016 Summer</td>\n      <td>0</td>\n      <td>Yemen</td>\n      <td>3</td>\n      <td>3</td>\n      <td>3</td>\n      <td>0</td>\n      <td>0</td>\n      <td>...</td>\n      <td>0</td>\n      <td>0</td>\n      <td>0</td>\n      <td>0</td>\n      <td>1</td>\n      <td>0</td>\n      <td>0</td>\n      <td>0</td>\n      <td>0</td>\n      <td>YEM</td>\n    </tr>\n    <tr>\n      <th>3830</th>\n      <td>2016</td>\n      <td>1</td>\n      <td>2016 Summer</td>\n      <td>0</td>\n      <td>Zambia</td>\n      <td>7</td>\n      <td>4</td>\n      <td>7</td>\n      <td>0</td>\n      <td>0</td>\n      <td>...</td>\n      <td>0</td>\n      <td>0</td>\n      <td>0</td>\n      <td>0</td>\n      <td>0</td>\n      <td>0</td>\n      <td>0</td>\n      <td>1</td>\n      <td>0</td>\n      <td>ZAM</td>\n    </tr>\n    <tr>\n      <th>3831</th>\n      <td>2016</td>\n      <td>1</td>\n      <td>2016 Summer</td>\n      <td>0</td>\n      <td>Zimbabwe</td>\n      <td>30</td>\n      <td>7</td>\n      <td>13</td>\n      <td>0</td>\n      <td>0</td>\n      <td>...</td>\n      <td>0</td>\n      <td>0</td>\n      <td>0</td>\n      <td>0</td>\n      <td>0</td>\n      <td>0</td>\n      <td>0</td>\n      <td>0</td>\n      <td>1</td>\n      <td>ZIM</td>\n    </tr>\n  </tbody>\n</table>\n<p>3832 rows × 241 columns</p>\n</div>",
      "text/plain": "      Year  Summer        Games  Host         region  Name  Sports  Events  \\\n0     1896       1  1896 Summer     0      Australia     1       2       5   \n1     1896       1  1896 Summer     0        Austria     3       3       8   \n2     1896       1  1896 Summer     0        Denmark     3       5      12   \n3     1896       1  1896 Summer     0         France    12       6      18   \n4     1896       1  1896 Summer     0             UK    10       7      19   \n...    ...     ...          ...   ...            ...   ...     ...     ...   \n3827  2016       1  2016 Summer     0        Vietnam    22      10      24   \n3828  2016       1  2016 Summer     0  Saint Vincent     4       2       4   \n3829  2016       1  2016 Summer     0          Yemen     3       3       3   \n3830  2016       1  2016 Summer     0         Zambia     7       4       7   \n3831  2016       1  2016 Summer     0       Zimbabwe    30       7      13   \n\n      Medals  Golds  ...  NOC_VIN  NOC_VNM  NOC_WIF  NOC_YAR  NOC_YEM  \\\n0          3      2  ...        0        0        0        0        0   \n1          5      2  ...        0        0        0        0        0   \n2          6      1  ...        0        0        0        0        0   \n3         11      5  ...        0        0        0        0        0   \n4          9      3  ...        0        0        0        0        0   \n...      ...    ...  ...      ...      ...      ...      ...      ...   \n3827       2      1  ...        0        0        0        0        0   \n3828       0      0  ...        1        0        0        0        0   \n3829       0      0  ...        0        0        0        0        1   \n3830       0      0  ...        0        0        0        0        0   \n3831       0      0  ...        0        0        0        0        0   \n\n      NOC_YMD  NOC_YUG  NOC_ZAM  NOC_ZIM  NOC  \n0           0        0        0        0  AUS  \n1           0        0        0        0  AUT  \n2           0        0        0        0  DEN  \n3           0        0        0        0  FRA  \n4           0        0        0        0  GBR  \n...       ...      ...      ...      ...  ...  \n3827        0        0        0        0  VIE  \n3828        0        0        0        0  VIN  \n3829        0        0        0        0  YEM  \n3830        0        0        1        0  ZAM  \n3831        0        0        0        1  ZIM  \n\n[3832 rows x 241 columns]"
     },
     "execution_count": 17,
     "metadata": {},
     "output_type": "execute_result"
    }
   ],
   "source": [
    "# model = model[model['Year'] >= 1992]\n",
    "model = model.reset_index().drop(['index'], axis=1)\n",
    "model"
   ]
  },
  {
   "cell_type": "code",
   "execution_count": 18,
   "metadata": {},
   "outputs": [
    {
     "data": {
      "text/html": "<div>\n<style scoped>\n    .dataframe tbody tr th:only-of-type {\n        vertical-align: middle;\n    }\n\n    .dataframe tbody tr th {\n        vertical-align: top;\n    }\n\n    .dataframe thead th {\n        text-align: right;\n    }\n</style>\n<table border=\"1\" class=\"dataframe\">\n  <thead>\n    <tr style=\"text-align: right;\">\n      <th></th>\n      <th>Medals</th>\n      <th>Golds</th>\n      <th>Silvers</th>\n      <th>Bronzes</th>\n      <th>Year</th>\n      <th>NOC</th>\n      <th>region</th>\n    </tr>\n  </thead>\n  <tbody>\n    <tr>\n      <th>0</th>\n      <td>3</td>\n      <td>2</td>\n      <td>0</td>\n      <td>1</td>\n      <td>1896</td>\n      <td>AUS</td>\n      <td>Australia</td>\n    </tr>\n    <tr>\n      <th>1</th>\n      <td>5</td>\n      <td>2</td>\n      <td>1</td>\n      <td>2</td>\n      <td>1896</td>\n      <td>AUT</td>\n      <td>Austria</td>\n    </tr>\n    <tr>\n      <th>2</th>\n      <td>6</td>\n      <td>1</td>\n      <td>2</td>\n      <td>3</td>\n      <td>1896</td>\n      <td>DEN</td>\n      <td>Denmark</td>\n    </tr>\n    <tr>\n      <th>3</th>\n      <td>11</td>\n      <td>5</td>\n      <td>4</td>\n      <td>2</td>\n      <td>1896</td>\n      <td>FRA</td>\n      <td>France</td>\n    </tr>\n    <tr>\n      <th>4</th>\n      <td>9</td>\n      <td>3</td>\n      <td>3</td>\n      <td>3</td>\n      <td>1896</td>\n      <td>GBR</td>\n      <td>UK</td>\n    </tr>\n  </tbody>\n</table>\n</div>",
      "text/plain": "   Medals  Golds  Silvers  Bronzes  Year  NOC     region\n0       3      2        0        1  1896  AUS  Australia\n1       5      2        1        2  1896  AUT    Austria\n2       6      1        2        3  1896  DEN    Denmark\n3      11      5        4        2  1896  FRA     France\n4       9      3        3        3  1896  GBR         UK"
     },
     "execution_count": 18,
     "metadata": {},
     "output_type": "execute_result"
    }
   ],
   "source": [
    "y = model[['Medals','Golds','Silvers','Bronzes','Year','NOC','region']]\n",
    "y.head()"
   ]
  },
  {
   "cell_type": "code",
   "execution_count": 19,
   "metadata": {},
   "outputs": [
    {
     "data": {
      "text/html": "<div>\n<style scoped>\n    .dataframe tbody tr th:only-of-type {\n        vertical-align: middle;\n    }\n\n    .dataframe tbody tr th {\n        vertical-align: top;\n    }\n\n    .dataframe thead th {\n        text-align: right;\n    }\n</style>\n<table border=\"1\" class=\"dataframe\">\n  <thead>\n    <tr style=\"text-align: right;\">\n      <th></th>\n      <th>Year</th>\n      <th>NOC</th>\n      <th>region</th>\n      <th>Summer</th>\n      <th>Host</th>\n      <th>Name</th>\n      <th>Events</th>\n      <th>Name Event</th>\n      <th>NOC_USA</th>\n      <th>NOC_GER</th>\n      <th>NOC_GBR</th>\n      <th>NOC_FRA</th>\n      <th>NOC_ITA</th>\n      <th>NOC_SWE</th>\n      <th>NOC_CHN</th>\n      <th>NOC_RUS</th>\n      <th>NOC_AUS</th>\n      <th>NOC_HUN</th>\n      <th>NOC_JPN</th>\n    </tr>\n  </thead>\n  <tbody>\n    <tr>\n      <th>0</th>\n      <td>1896</td>\n      <td>AUS</td>\n      <td>Australia</td>\n      <td>1</td>\n      <td>0</td>\n      <td>1</td>\n      <td>5</td>\n      <td>0.200</td>\n      <td>0</td>\n      <td>0</td>\n      <td>0</td>\n      <td>0</td>\n      <td>0</td>\n      <td>0</td>\n      <td>0</td>\n      <td>0</td>\n      <td>1</td>\n      <td>0</td>\n      <td>0</td>\n    </tr>\n    <tr>\n      <th>1</th>\n      <td>1896</td>\n      <td>AUT</td>\n      <td>Austria</td>\n      <td>1</td>\n      <td>0</td>\n      <td>3</td>\n      <td>8</td>\n      <td>0.375</td>\n      <td>0</td>\n      <td>0</td>\n      <td>0</td>\n      <td>0</td>\n      <td>0</td>\n      <td>0</td>\n      <td>0</td>\n      <td>0</td>\n      <td>0</td>\n      <td>0</td>\n      <td>0</td>\n    </tr>\n    <tr>\n      <th>2</th>\n      <td>1896</td>\n      <td>DEN</td>\n      <td>Denmark</td>\n      <td>1</td>\n      <td>0</td>\n      <td>3</td>\n      <td>12</td>\n      <td>0.250</td>\n      <td>0</td>\n      <td>0</td>\n      <td>0</td>\n      <td>0</td>\n      <td>0</td>\n      <td>0</td>\n      <td>0</td>\n      <td>0</td>\n      <td>0</td>\n      <td>0</td>\n      <td>0</td>\n    </tr>\n    <tr>\n      <th>3</th>\n      <td>1896</td>\n      <td>FRA</td>\n      <td>France</td>\n      <td>1</td>\n      <td>0</td>\n      <td>12</td>\n      <td>18</td>\n      <td>0.667</td>\n      <td>0</td>\n      <td>0</td>\n      <td>0</td>\n      <td>1</td>\n      <td>0</td>\n      <td>0</td>\n      <td>0</td>\n      <td>0</td>\n      <td>0</td>\n      <td>0</td>\n      <td>0</td>\n    </tr>\n    <tr>\n      <th>4</th>\n      <td>1896</td>\n      <td>GBR</td>\n      <td>UK</td>\n      <td>1</td>\n      <td>0</td>\n      <td>10</td>\n      <td>19</td>\n      <td>0.526</td>\n      <td>0</td>\n      <td>0</td>\n      <td>1</td>\n      <td>0</td>\n      <td>0</td>\n      <td>0</td>\n      <td>0</td>\n      <td>0</td>\n      <td>0</td>\n      <td>0</td>\n      <td>0</td>\n    </tr>\n  </tbody>\n</table>\n</div>",
      "text/plain": "   Year  NOC     region  Summer  Host  Name  Events  Name Event  NOC_USA  \\\n0  1896  AUS  Australia       1     0     1       5       0.200        0   \n1  1896  AUT    Austria       1     0     3       8       0.375        0   \n2  1896  DEN    Denmark       1     0     3      12       0.250        0   \n3  1896  FRA     France       1     0    12      18       0.667        0   \n4  1896  GBR         UK       1     0    10      19       0.526        0   \n\n   NOC_GER  NOC_GBR  NOC_FRA  NOC_ITA  NOC_SWE  NOC_CHN  NOC_RUS  NOC_AUS  \\\n0        0        0        0        0        0        0        0        1   \n1        0        0        0        0        0        0        0        0   \n2        0        0        0        0        0        0        0        0   \n3        0        0        1        0        0        0        0        0   \n4        0        1        0        0        0        0        0        0   \n\n   NOC_HUN  NOC_JPN  \n0        0        0  \n1        0        0  \n2        0        0  \n3        0        0  \n4        0        0  "
     },
     "execution_count": 19,
     "metadata": {},
     "output_type": "execute_result"
    }
   ],
   "source": [
    "X = model[['Year','NOC','region','Summer','Host','Name','Events','Name Event', \n",
    "           'NOC_USA','NOC_GER','NOC_GBR','NOC_FRA','NOC_ITA',\n",
    "           'NOC_SWE','NOC_CHN','NOC_RUS','NOC_AUS','NOC_HUN',\n",
    "           'NOC_JPN']]\n",
    "X.head()"
   ]
  },
  {
   "cell_type": "code",
   "execution_count": 20,
   "metadata": {},
   "outputs": [],
   "source": [
    "X_train = X[X['Year'] <  2016]\n",
    "X_test  = X[X['Year'] == 2016]\n",
    "X_test  = X_test.reset_index().drop(['index'], axis=1)\n",
    "\n",
    "y_train = y[y['Year'] <  2016]\n",
    "y_test  = y[y['Year'] == 2016]\n",
    "y_test  = y_test.reset_index().drop(['index'], axis=1)\n"
   ]
  },
  {
   "cell_type": "code",
   "execution_count": 21,
   "metadata": {},
   "outputs": [],
   "source": [
    "# Create linear regression objects\n",
    "regr_golds   = LinearRegression()\n",
    "regr_silvers = LinearRegression()\n",
    "regr_bronzes = LinearRegression()"
   ]
  },
  {
   "cell_type": "code",
   "execution_count": 22,
   "metadata": {},
   "outputs": [
    {
     "data": {
      "text/plain": "LinearRegression()"
     },
     "execution_count": 22,
     "metadata": {},
     "output_type": "execute_result"
    }
   ],
   "source": [
    "# Train the models using the training sets\n",
    "regr_golds.fit(  X_train.drop(['Year','NOC','region'], axis=1), y_train['Golds'])\n",
    "regr_silvers.fit(X_train.drop(['Year','NOC','region'], axis=1), y_train['Silvers'])\n",
    "regr_bronzes.fit(X_train.drop(['Year','NOC','region'], axis=1), y_train['Bronzes'])"
   ]
  },
  {
   "cell_type": "code",
   "execution_count": 23,
   "metadata": {},
   "outputs": [
    {
     "name": "stderr",
     "output_type": "stream",
     "text": [
      "<ipython-input-23-fc784ec9e3d7>:2: SettingWithCopyWarning: \n",
      "A value is trying to be set on a copy of a slice from a DataFrame.\n",
      "Try using .loc[row_indexer,col_indexer] = value instead\n",
      "\n",
      "See the caveats in the documentation: https://pandas.pydata.org/pandas-docs/stable/user_guide/indexing.html#returning-a-view-versus-a-copy\n",
      "  y_train['Golds Prediction']   = pd.DataFrame(\n",
      "<ipython-input-23-fc784ec9e3d7>:4: SettingWithCopyWarning: \n",
      "A value is trying to be set on a copy of a slice from a DataFrame.\n",
      "Try using .loc[row_indexer,col_indexer] = value instead\n",
      "\n",
      "See the caveats in the documentation: https://pandas.pydata.org/pandas-docs/stable/user_guide/indexing.html#returning-a-view-versus-a-copy\n",
      "  y_train['Golds Prediction']   = y_train['Golds Prediction'].astype('int64')\n",
      "<ipython-input-23-fc784ec9e3d7>:5: SettingWithCopyWarning: \n",
      "A value is trying to be set on a copy of a slice from a DataFrame.\n",
      "Try using .loc[row_indexer,col_indexer] = value instead\n",
      "\n",
      "See the caveats in the documentation: https://pandas.pydata.org/pandas-docs/stable/user_guide/indexing.html#returning-a-view-versus-a-copy\n",
      "  y_train['Golds Prediction']   = y_train['Golds Prediction'].clip(lower=0)\n",
      "<ipython-input-23-fc784ec9e3d7>:7: SettingWithCopyWarning: \n",
      "A value is trying to be set on a copy of a slice from a DataFrame.\n",
      "Try using .loc[row_indexer,col_indexer] = value instead\n",
      "\n",
      "See the caveats in the documentation: https://pandas.pydata.org/pandas-docs/stable/user_guide/indexing.html#returning-a-view-versus-a-copy\n",
      "  y_train['Silvers Prediction'] = pd.DataFrame(\n",
      "<ipython-input-23-fc784ec9e3d7>:9: SettingWithCopyWarning: \n",
      "A value is trying to be set on a copy of a slice from a DataFrame.\n",
      "Try using .loc[row_indexer,col_indexer] = value instead\n",
      "\n",
      "See the caveats in the documentation: https://pandas.pydata.org/pandas-docs/stable/user_guide/indexing.html#returning-a-view-versus-a-copy\n",
      "  y_train['Silvers Prediction'] = y_train['Silvers Prediction'].astype('int64')\n",
      "<ipython-input-23-fc784ec9e3d7>:10: SettingWithCopyWarning: \n",
      "A value is trying to be set on a copy of a slice from a DataFrame.\n",
      "Try using .loc[row_indexer,col_indexer] = value instead\n",
      "\n",
      "See the caveats in the documentation: https://pandas.pydata.org/pandas-docs/stable/user_guide/indexing.html#returning-a-view-versus-a-copy\n",
      "  y_train['Silvers Prediction'] = y_train['Silvers Prediction'].clip(lower=0)\n",
      "<ipython-input-23-fc784ec9e3d7>:12: SettingWithCopyWarning: \n",
      "A value is trying to be set on a copy of a slice from a DataFrame.\n",
      "Try using .loc[row_indexer,col_indexer] = value instead\n",
      "\n",
      "See the caveats in the documentation: https://pandas.pydata.org/pandas-docs/stable/user_guide/indexing.html#returning-a-view-versus-a-copy\n",
      "  y_train['Bronzes Prediction'] = pd.DataFrame(\n",
      "<ipython-input-23-fc784ec9e3d7>:14: SettingWithCopyWarning: \n",
      "A value is trying to be set on a copy of a slice from a DataFrame.\n",
      "Try using .loc[row_indexer,col_indexer] = value instead\n",
      "\n",
      "See the caveats in the documentation: https://pandas.pydata.org/pandas-docs/stable/user_guide/indexing.html#returning-a-view-versus-a-copy\n",
      "  y_train['Bronzes Prediction'] = y_train['Bronzes Prediction'].astype('int64')\n",
      "<ipython-input-23-fc784ec9e3d7>:15: SettingWithCopyWarning: \n",
      "A value is trying to be set on a copy of a slice from a DataFrame.\n",
      "Try using .loc[row_indexer,col_indexer] = value instead\n",
      "\n",
      "See the caveats in the documentation: https://pandas.pydata.org/pandas-docs/stable/user_guide/indexing.html#returning-a-view-versus-a-copy\n",
      "  y_train['Bronzes Prediction'] = y_train['Bronzes Prediction'].clip(lower=0)\n",
      "<ipython-input-23-fc784ec9e3d7>:17: SettingWithCopyWarning: \n",
      "A value is trying to be set on a copy of a slice from a DataFrame.\n",
      "Try using .loc[row_indexer,col_indexer] = value instead\n",
      "\n",
      "See the caveats in the documentation: https://pandas.pydata.org/pandas-docs/stable/user_guide/indexing.html#returning-a-view-versus-a-copy\n",
      "  y_train['Medals Prediction']  = y_train['Golds Prediction'] + y_train['Silvers Prediction'] + y_train['Bronzes Prediction']\n"
     ]
    },
    {
     "data": {
      "text/html": "<div>\n<style scoped>\n    .dataframe tbody tr th:only-of-type {\n        vertical-align: middle;\n    }\n\n    .dataframe tbody tr th {\n        vertical-align: top;\n    }\n\n    .dataframe thead th {\n        text-align: right;\n    }\n</style>\n<table border=\"1\" class=\"dataframe\">\n  <thead>\n    <tr style=\"text-align: right;\">\n      <th></th>\n      <th>Medals</th>\n      <th>Golds</th>\n      <th>Silvers</th>\n      <th>Bronzes</th>\n      <th>Year</th>\n      <th>NOC</th>\n      <th>region</th>\n      <th>Golds Prediction</th>\n      <th>Silvers Prediction</th>\n      <th>Bronzes Prediction</th>\n      <th>Medals Prediction</th>\n    </tr>\n  </thead>\n  <tbody>\n    <tr>\n      <th>0</th>\n      <td>3</td>\n      <td>2</td>\n      <td>0</td>\n      <td>1</td>\n      <td>1896</td>\n      <td>AUS</td>\n      <td>Australia</td>\n      <td>0</td>\n      <td>0</td>\n      <td>0</td>\n      <td>0</td>\n    </tr>\n    <tr>\n      <th>1</th>\n      <td>5</td>\n      <td>2</td>\n      <td>1</td>\n      <td>2</td>\n      <td>1896</td>\n      <td>AUT</td>\n      <td>Austria</td>\n      <td>0</td>\n      <td>0</td>\n      <td>0</td>\n      <td>0</td>\n    </tr>\n    <tr>\n      <th>2</th>\n      <td>6</td>\n      <td>1</td>\n      <td>2</td>\n      <td>3</td>\n      <td>1896</td>\n      <td>DEN</td>\n      <td>Denmark</td>\n      <td>0</td>\n      <td>0</td>\n      <td>0</td>\n      <td>0</td>\n    </tr>\n    <tr>\n      <th>3</th>\n      <td>11</td>\n      <td>5</td>\n      <td>4</td>\n      <td>2</td>\n      <td>1896</td>\n      <td>FRA</td>\n      <td>France</td>\n      <td>0</td>\n      <td>0</td>\n      <td>0</td>\n      <td>0</td>\n    </tr>\n    <tr>\n      <th>4</th>\n      <td>9</td>\n      <td>3</td>\n      <td>3</td>\n      <td>3</td>\n      <td>1896</td>\n      <td>GBR</td>\n      <td>UK</td>\n      <td>0</td>\n      <td>0</td>\n      <td>0</td>\n      <td>0</td>\n    </tr>\n  </tbody>\n</table>\n</div>",
      "text/plain": "   Medals  Golds  Silvers  Bronzes  Year  NOC     region  Golds Prediction  \\\n0       3      2        0        1  1896  AUS  Australia                 0   \n1       5      2        1        2  1896  AUT    Austria                 0   \n2       6      1        2        3  1896  DEN    Denmark                 0   \n3      11      5        4        2  1896  FRA     France                 0   \n4       9      3        3        3  1896  GBR         UK                 0   \n\n   Silvers Prediction  Bronzes Prediction  Medals Prediction  \n0                   0                   0                  0  \n1                   0                   0                  0  \n2                   0                   0                  0  \n3                   0                   0                  0  \n4                   0                   0                  0  "
     },
     "execution_count": 23,
     "metadata": {},
     "output_type": "execute_result"
    }
   ],
   "source": [
    "# Make predictions using the training sets\n",
    "y_train['Golds Prediction']   = pd.DataFrame(\n",
    "    regr_golds.predict(X_train.drop(['Year','NOC','region'], axis=1)), columns=['Golds Prediction'])\n",
    "y_train['Golds Prediction']   = y_train['Golds Prediction'].astype('int64')\n",
    "y_train['Golds Prediction']   = y_train['Golds Prediction'].clip(lower=0)\n",
    "\n",
    "y_train['Silvers Prediction'] = pd.DataFrame(\n",
    "    regr_silvers.predict(X_train.drop(['Year','NOC','region'], axis=1)), columns=['Silvers Prediction'])\n",
    "y_train['Silvers Prediction'] = y_train['Silvers Prediction'].astype('int64')\n",
    "y_train['Silvers Prediction'] = y_train['Silvers Prediction'].clip(lower=0)\n",
    "\n",
    "y_train['Bronzes Prediction'] = pd.DataFrame(\n",
    "    regr_bronzes.predict(X_train.drop(['Year','NOC','region'], axis=1)), columns=['Bronzes Prediction'])\n",
    "y_train['Bronzes Prediction'] = y_train['Bronzes Prediction'].astype('int64')\n",
    "y_train['Bronzes Prediction'] = y_train['Bronzes Prediction'].clip(lower=0)\n",
    "\n",
    "y_train['Medals Prediction']  = y_train['Golds Prediction'] + y_train['Silvers Prediction'] + y_train['Bronzes Prediction']\n",
    "y_train.head()"
   ]
  },
  {
   "cell_type": "code",
   "execution_count": 24,
   "metadata": {},
   "outputs": [
    {
     "name": "stdout",
     "output_type": "stream",
     "text": [
      "0.41572132785910987\n",
      "0.3687394754737101\n",
      "0.13937980791902316\n"
     ]
    }
   ],
   "source": [
    "print(regr_golds.intercept_)\n",
    "print(regr_silvers.intercept_)\n",
    "print(regr_bronzes.intercept_)\n"
   ]
  },
  {
   "cell_type": "code",
   "execution_count": 25,
   "metadata": {},
   "outputs": [
    {
     "data": {
      "text/html": "<div>\n<style scoped>\n    .dataframe tbody tr th:only-of-type {\n        vertical-align: middle;\n    }\n\n    .dataframe tbody tr th {\n        vertical-align: top;\n    }\n\n    .dataframe thead th {\n        text-align: right;\n    }\n</style>\n<table border=\"1\" class=\"dataframe\">\n  <thead>\n    <tr style=\"text-align: right;\">\n      <th></th>\n      <th>Feature</th>\n      <th>Golds Coefficients</th>\n      <th>Silvers Coefficients</th>\n      <th>Bronzes Coefficients</th>\n    </tr>\n  </thead>\n  <tbody>\n    <tr>\n      <th>0</th>\n      <td>NOC_USA</td>\n      <td>9.597675</td>\n      <td>5.616863</td>\n      <td>3.694215</td>\n    </tr>\n    <tr>\n      <th>1</th>\n      <td>NOC_CHN</td>\n      <td>3.986365</td>\n      <td>2.023420</td>\n      <td>0.868571</td>\n    </tr>\n    <tr>\n      <th>2</th>\n      <td>NOC_RUS</td>\n      <td>2.747157</td>\n      <td>1.986852</td>\n      <td>2.678375</td>\n    </tr>\n    <tr>\n      <th>3</th>\n      <td>NOC_HUN</td>\n      <td>1.104353</td>\n      <td>0.715124</td>\n      <td>0.738217</td>\n    </tr>\n    <tr>\n      <th>4</th>\n      <td>NOC_GER</td>\n      <td>0.820915</td>\n      <td>2.130067</td>\n      <td>1.769424</td>\n    </tr>\n    <tr>\n      <th>5</th>\n      <td>Name</td>\n      <td>0.085024</td>\n      <td>0.078567</td>\n      <td>0.065924</td>\n    </tr>\n    <tr>\n      <th>6</th>\n      <td>NOC_SWE</td>\n      <td>0.042645</td>\n      <td>0.322826</td>\n      <td>0.722757</td>\n    </tr>\n    <tr>\n      <th>7</th>\n      <td>Summer</td>\n      <td>-0.017051</td>\n      <td>-0.021408</td>\n      <td>-0.040224</td>\n    </tr>\n    <tr>\n      <th>8</th>\n      <td>Events</td>\n      <td>-0.076471</td>\n      <td>-0.068094</td>\n      <td>-0.041014</td>\n    </tr>\n    <tr>\n      <th>9</th>\n      <td>Name Event</td>\n      <td>-0.527541</td>\n      <td>-0.418687</td>\n      <td>-0.303994</td>\n    </tr>\n    <tr>\n      <th>10</th>\n      <td>NOC_ITA</td>\n      <td>-0.639399</td>\n      <td>-1.169590</td>\n      <td>-0.913089</td>\n    </tr>\n    <tr>\n      <th>11</th>\n      <td>Host</td>\n      <td>-0.716877</td>\n      <td>-1.467511</td>\n      <td>-1.996959</td>\n    </tr>\n    <tr>\n      <th>12</th>\n      <td>NOC_AUS</td>\n      <td>-1.060412</td>\n      <td>-0.638165</td>\n      <td>-0.286085</td>\n    </tr>\n    <tr>\n      <th>13</th>\n      <td>NOC_JPN</td>\n      <td>-1.175299</td>\n      <td>-0.975952</td>\n      <td>-0.893865</td>\n    </tr>\n    <tr>\n      <th>14</th>\n      <td>NOC_FRA</td>\n      <td>-1.557360</td>\n      <td>-1.018345</td>\n      <td>-0.158621</td>\n    </tr>\n    <tr>\n      <th>15</th>\n      <td>NOC_GBR</td>\n      <td>-1.829326</td>\n      <td>-0.922473</td>\n      <td>-1.090499</td>\n    </tr>\n  </tbody>\n</table>\n</div>",
      "text/plain": "       Feature  Golds Coefficients  Silvers Coefficients  Bronzes Coefficients\n0      NOC_USA            9.597675              5.616863              3.694215\n1      NOC_CHN            3.986365              2.023420              0.868571\n2      NOC_RUS            2.747157              1.986852              2.678375\n3      NOC_HUN            1.104353              0.715124              0.738217\n4      NOC_GER            0.820915              2.130067              1.769424\n5         Name            0.085024              0.078567              0.065924\n6      NOC_SWE            0.042645              0.322826              0.722757\n7       Summer           -0.017051             -0.021408             -0.040224\n8       Events           -0.076471             -0.068094             -0.041014\n9   Name Event           -0.527541             -0.418687             -0.303994\n10     NOC_ITA           -0.639399             -1.169590             -0.913089\n11        Host           -0.716877             -1.467511             -1.996959\n12     NOC_AUS           -1.060412             -0.638165             -0.286085\n13     NOC_JPN           -1.175299             -0.975952             -0.893865\n14     NOC_FRA           -1.557360             -1.018345             -0.158621\n15     NOC_GBR           -1.829326             -0.922473             -1.090499"
     },
     "execution_count": 25,
     "metadata": {},
     "output_type": "execute_result"
    }
   ],
   "source": [
    "# The coefficients\n",
    "columns                          = X_train.columns.drop(['Year','NOC','region'])\n",
    "features                         = pd.DataFrame(columns.T, columns=['Feature'])\n",
    "features['Golds Coefficients']   = regr_golds.coef_.T\n",
    "features['Silvers Coefficients'] = regr_silvers.coef_.T\n",
    "features['Bronzes Coefficients'] = regr_bronzes.coef_.T\n",
    "\n",
    "features = features.sort_values(by='Golds Coefficients', ascending=False).reset_index().drop(['index'],axis=1)\n",
    "features"
   ]
  },
  {
   "cell_type": "code",
   "execution_count": 26,
   "metadata": {},
   "outputs": [
    {
     "data": {
      "text/html": "<div>\n<style scoped>\n    .dataframe tbody tr th:only-of-type {\n        vertical-align: middle;\n    }\n\n    .dataframe tbody tr th {\n        vertical-align: top;\n    }\n\n    .dataframe thead th {\n        text-align: right;\n    }\n</style>\n<table border=\"1\" class=\"dataframe\">\n  <thead>\n    <tr style=\"text-align: right;\">\n      <th></th>\n      <th>Medals</th>\n      <th>Golds</th>\n      <th>Silvers</th>\n      <th>Bronzes</th>\n      <th>Year</th>\n      <th>NOC</th>\n      <th>region</th>\n      <th>Golds Prediction</th>\n      <th>Silvers Prediction</th>\n      <th>Bronzes Prediction</th>\n      <th>Medals Prediction</th>\n    </tr>\n  </thead>\n  <tbody>\n    <tr>\n      <th>0</th>\n      <td>0</td>\n      <td>0</td>\n      <td>0</td>\n      <td>0</td>\n      <td>2016</td>\n      <td>AFG</td>\n      <td>Afghanistan</td>\n      <td>0</td>\n      <td>0</td>\n      <td>0</td>\n      <td>0</td>\n    </tr>\n    <tr>\n      <th>1</th>\n      <td>0</td>\n      <td>0</td>\n      <td>0</td>\n      <td>0</td>\n      <td>2016</td>\n      <td>ALB</td>\n      <td>Albania</td>\n      <td>0</td>\n      <td>0</td>\n      <td>0</td>\n      <td>0</td>\n    </tr>\n    <tr>\n      <th>2</th>\n      <td>2</td>\n      <td>0</td>\n      <td>2</td>\n      <td>0</td>\n      <td>2016</td>\n      <td>ALG</td>\n      <td>Algeria</td>\n      <td>1</td>\n      <td>1</td>\n      <td>1</td>\n      <td>3</td>\n    </tr>\n    <tr>\n      <th>3</th>\n      <td>0</td>\n      <td>0</td>\n      <td>0</td>\n      <td>0</td>\n      <td>2016</td>\n      <td>AND</td>\n      <td>Andorra</td>\n      <td>0</td>\n      <td>0</td>\n      <td>0</td>\n      <td>0</td>\n    </tr>\n    <tr>\n      <th>4</th>\n      <td>0</td>\n      <td>0</td>\n      <td>0</td>\n      <td>0</td>\n      <td>2016</td>\n      <td>ANG</td>\n      <td>Angola</td>\n      <td>0</td>\n      <td>0</td>\n      <td>0</td>\n      <td>0</td>\n    </tr>\n  </tbody>\n</table>\n</div>",
      "text/plain": "   Medals  Golds  Silvers  Bronzes  Year  NOC       region  Golds Prediction  \\\n0       0      0        0        0  2016  AFG  Afghanistan                 0   \n1       0      0        0        0  2016  ALB      Albania                 0   \n2       2      0        2        0  2016  ALG      Algeria                 1   \n3       0      0        0        0  2016  AND      Andorra                 0   \n4       0      0        0        0  2016  ANG       Angola                 0   \n\n   Silvers Prediction  Bronzes Prediction  Medals Prediction  \n0                   0                   0                  0  \n1                   0                   0                  0  \n2                   1                   1                  3  \n3                   0                   0                  0  \n4                   0                   0                  0  "
     },
     "execution_count": 26,
     "metadata": {},
     "output_type": "execute_result"
    }
   ],
   "source": [
    "# Make predictions using the test set\n",
    "y_test['Golds Prediction']   = pd.DataFrame(\n",
    "    regr_golds.predict(X_test.drop(['Year','NOC','region'], axis=1)), columns=['Golds Prediction'])\n",
    "y_test['Golds Prediction']   = y_test['Golds Prediction'].astype('int64')\n",
    "y_test['Golds Prediction']   = y_test['Golds Prediction'].clip(lower=0)\n",
    "\n",
    "y_test['Silvers Prediction'] = pd.DataFrame(\n",
    "    regr_silvers.predict(X_test.drop(['Year','NOC','region'], axis=1)), columns=['Silvers Prediction'])\n",
    "y_test['Silvers Prediction'] = y_test['Silvers Prediction'].astype('int64')\n",
    "y_test['Silvers Prediction'] = y_test['Silvers Prediction'].clip(lower=0)\n",
    "\n",
    "y_test['Bronzes Prediction'] = pd.DataFrame(\n",
    "    regr_bronzes.predict(X_test.drop(['Year','NOC','region'], axis=1)), columns=['Bronzes Prediction'])\n",
    "y_test['Bronzes Prediction'] = y_test['Bronzes Prediction'].astype('int64')\n",
    "y_test['Bronzes Prediction'] = y_test['Bronzes Prediction'].clip(lower=0)\n",
    "\n",
    "y_test['Medals Prediction']  = y_test['Golds Prediction'] + y_test['Silvers Prediction'] + y_test['Bronzes Prediction']\n",
    "y_test.head()"
   ]
  },
  {
   "cell_type": "code",
   "execution_count": 27,
   "metadata": {},
   "outputs": [
    {
     "data": {
      "text/html": "<div>\n<style scoped>\n    .dataframe tbody tr th:only-of-type {\n        vertical-align: middle;\n    }\n\n    .dataframe tbody tr th {\n        vertical-align: top;\n    }\n\n    .dataframe thead th {\n        text-align: right;\n    }\n</style>\n<table border=\"1\" class=\"dataframe\">\n  <thead>\n    <tr style=\"text-align: right;\">\n      <th></th>\n      <th>NOC</th>\n      <th>Medals Prediction</th>\n      <th>Year</th>\n      <th>Summer</th>\n      <th>Games</th>\n      <th>Host</th>\n      <th>region</th>\n      <th>Name</th>\n      <th>Sports</th>\n      <th>Events</th>\n      <th>Medals</th>\n      <th>Golds</th>\n      <th>Silvers</th>\n      <th>Bronzes</th>\n      <th>Name Event</th>\n    </tr>\n  </thead>\n  <tbody>\n    <tr>\n      <th>196</th>\n      <td>USA</td>\n      <td>97</td>\n      <td>2016</td>\n      <td>1</td>\n      <td>2016 Summer</td>\n      <td>0</td>\n      <td>USA</td>\n      <td>555</td>\n      <td>33</td>\n      <td>245</td>\n      <td>121</td>\n      <td>46</td>\n      <td>37</td>\n      <td>38</td>\n      <td>2.265</td>\n    </tr>\n    <tr>\n      <th>26</th>\n      <td>BRA</td>\n      <td>57</td>\n      <td>2016</td>\n      <td>1</td>\n      <td>2016 Summer</td>\n      <td>1</td>\n      <td>Brazil</td>\n      <td>462</td>\n      <td>34</td>\n      <td>222</td>\n      <td>19</td>\n      <td>7</td>\n      <td>6</td>\n      <td>6</td>\n      <td>2.081</td>\n    </tr>\n    <tr>\n      <th>72</th>\n      <td>GER</td>\n      <td>57</td>\n      <td>2016</td>\n      <td>1</td>\n      <td>2016 Summer</td>\n      <td>0</td>\n      <td>Germany</td>\n      <td>418</td>\n      <td>29</td>\n      <td>217</td>\n      <td>42</td>\n      <td>17</td>\n      <td>10</td>\n      <td>15</td>\n      <td>1.926</td>\n    </tr>\n    <tr>\n      <th>10</th>\n      <td>AUS</td>\n      <td>55</td>\n      <td>2016</td>\n      <td>1</td>\n      <td>2016 Summer</td>\n      <td>0</td>\n      <td>Australia</td>\n      <td>420</td>\n      <td>31</td>\n      <td>194</td>\n      <td>29</td>\n      <td>8</td>\n      <td>11</td>\n      <td>10</td>\n      <td>2.165</td>\n    </tr>\n    <tr>\n      <th>38</th>\n      <td>CHN</td>\n      <td>54</td>\n      <td>2016</td>\n      <td>1</td>\n      <td>2016 Summer</td>\n      <td>0</td>\n      <td>China</td>\n      <td>390</td>\n      <td>32</td>\n      <td>209</td>\n      <td>70</td>\n      <td>26</td>\n      <td>18</td>\n      <td>26</td>\n      <td>1.866</td>\n    </tr>\n  </tbody>\n</table>\n</div>",
      "text/plain": "     NOC  Medals Prediction  Year  Summer        Games  Host     region  Name  \\\n196  USA                 97  2016       1  2016 Summer     0        USA   555   \n26   BRA                 57  2016       1  2016 Summer     1     Brazil   462   \n72   GER                 57  2016       1  2016 Summer     0    Germany   418   \n10   AUS                 55  2016       1  2016 Summer     0  Australia   420   \n38   CHN                 54  2016       1  2016 Summer     0      China   390   \n\n     Sports  Events  Medals  Golds  Silvers  Bronzes  Name Event  \n196      33     245     121     46       37       38       2.265  \n26       34     222      19      7        6        6       2.081  \n72       29     217      42     17       10       15       1.926  \n10       31     194      29      8       11       10       2.165  \n38       32     209      70     26       18       26       1.866  "
     },
     "execution_count": 27,
     "metadata": {},
     "output_type": "execute_result"
    }
   ],
   "source": [
    "medals_2016 = medals[medals['Games'] == '2016 Summer']\n",
    "medals_2016 = y_test[['NOC','Medals Prediction']].merge(medals_2016, on='NOC')\n",
    "medals_2016 = medals_2016.sort_values(by='Medals Prediction', ascending=False)\n",
    "medals_2016.head()"
   ]
  },
  {
   "cell_type": "code",
   "execution_count": 28,
   "metadata": {},
   "outputs": [
    {
     "name": "stdout",
     "output_type": "stream",
     "text": [
      "0.7461245396428564\n",
      "0.7791481593665753\n"
     ]
    }
   ],
   "source": [
    "variance1 = r2_score(y_train['Medals'], y_train['Medals Prediction'])\n",
    "varaince2 = r2_score(y_test['Medals'],  y_test['Medals Prediction'])\n",
    "print(variance1)\n",
    "print(varaince2)"
   ]
  },
  {
   "cell_type": "code",
   "execution_count": 29,
   "metadata": {},
   "outputs": [
    {
     "name": "stdout",
     "output_type": "stream",
     "text": [
      "(207, 5)\n"
     ]
    },
    {
     "name": "stderr",
     "output_type": "stream",
     "text": [
      "<ipython-input-29-dc9ce568609d>:3: FutureWarning: Indexing with multiple keys (implicitly converted to a tuple of keys) will be deprecated, use a list instead.\n",
      "  previous_medals = previous_medals.groupby(\n"
     ]
    },
    {
     "data": {
      "text/html": "<div>\n<style scoped>\n    .dataframe tbody tr th:only-of-type {\n        vertical-align: middle;\n    }\n\n    .dataframe tbody tr th {\n        vertical-align: top;\n    }\n\n    .dataframe thead th {\n        text-align: right;\n    }\n</style>\n<table border=\"1\" class=\"dataframe\">\n  <thead>\n    <tr style=\"text-align: right;\">\n      <th></th>\n      <th>NOC</th>\n      <th>region</th>\n      <th>Name</th>\n      <th>Sports</th>\n      <th>Events</th>\n    </tr>\n  </thead>\n  <tbody>\n    <tr>\n      <th>198</th>\n      <td>USA</td>\n      <td>USA</td>\n      <td>557</td>\n      <td>32</td>\n      <td>249</td>\n    </tr>\n    <tr>\n      <th>39</th>\n      <td>CHN</td>\n      <td>China</td>\n      <td>446</td>\n      <td>31</td>\n      <td>224</td>\n    </tr>\n    <tr>\n      <th>11</th>\n      <td>AUS</td>\n      <td>Australia</td>\n      <td>419</td>\n      <td>30</td>\n      <td>207</td>\n    </tr>\n    <tr>\n      <th>73</th>\n      <td>GER</td>\n      <td>Germany</td>\n      <td>407</td>\n      <td>28</td>\n      <td>212</td>\n    </tr>\n    <tr>\n      <th>69</th>\n      <td>GBR</td>\n      <td>UK</td>\n      <td>398</td>\n      <td>27</td>\n      <td>210</td>\n    </tr>\n  </tbody>\n</table>\n</div>",
      "text/plain": "     NOC     region  Name  Sports  Events\n198  USA        USA   557      32     249\n39   CHN      China   446      31     224\n11   AUS  Australia   419      30     207\n73   GER    Germany   407      28     212\n69   GBR         UK   398      27     210"
     },
     "execution_count": 29,
     "metadata": {},
     "output_type": "execute_result"
    }
   ],
   "source": [
    "previous_medals = medals[medals['Year'] >= 2008]\n",
    "previous_medals = previous_medals[previous_medals['Summer'] == 1]\n",
    "previous_medals = previous_medals.groupby(\n",
    "    ['NOC','region'])['Name','Sports','Events'].mean().astype('int64')\n",
    "previous_medals = previous_medals.reset_index()\n",
    "print(previous_medals.shape)\n",
    "previous_medals.sort_values(by='Name',ascending=False).head()"
   ]
  },
  {
   "cell_type": "code",
   "execution_count": 30,
   "metadata": {},
   "outputs": [
    {
     "name": "stdout",
     "output_type": "stream",
     "text": [
      "(205, 19)\n"
     ]
    },
    {
     "data": {
      "text/html": "<div>\n<style scoped>\n    .dataframe tbody tr th:only-of-type {\n        vertical-align: middle;\n    }\n\n    .dataframe tbody tr th {\n        vertical-align: top;\n    }\n\n    .dataframe thead th {\n        text-align: right;\n    }\n</style>\n<table border=\"1\" class=\"dataframe\">\n  <thead>\n    <tr style=\"text-align: right;\">\n      <th></th>\n      <th>Year</th>\n      <th>NOC</th>\n      <th>region</th>\n      <th>Summer</th>\n      <th>Host</th>\n      <th>Name</th>\n      <th>Events</th>\n      <th>Athletes per Event</th>\n      <th>NOC_USA</th>\n      <th>NOC_GER</th>\n      <th>NOC_GBR</th>\n      <th>NOC_FRA</th>\n      <th>NOC_ITA</th>\n      <th>NOC_SWE</th>\n      <th>NOC_CHN</th>\n      <th>NOC_RUS</th>\n      <th>NOC_AUS</th>\n      <th>NOC_HUN</th>\n      <th>NOC_JPN</th>\n    </tr>\n  </thead>\n  <tbody>\n    <tr>\n      <th>196</th>\n      <td>2020</td>\n      <td>USA</td>\n      <td>USA</td>\n      <td>1</td>\n      <td>0</td>\n      <td>557</td>\n      <td>249</td>\n      <td>2.237</td>\n      <td>1</td>\n      <td>0</td>\n      <td>0</td>\n      <td>0</td>\n      <td>0</td>\n      <td>0</td>\n      <td>0</td>\n      <td>0</td>\n      <td>0</td>\n      <td>0</td>\n      <td>0</td>\n    </tr>\n    <tr>\n      <th>38</th>\n      <td>2020</td>\n      <td>CHN</td>\n      <td>China</td>\n      <td>1</td>\n      <td>0</td>\n      <td>446</td>\n      <td>224</td>\n      <td>1.991</td>\n      <td>0</td>\n      <td>0</td>\n      <td>0</td>\n      <td>0</td>\n      <td>0</td>\n      <td>0</td>\n      <td>1</td>\n      <td>0</td>\n      <td>0</td>\n      <td>0</td>\n      <td>0</td>\n    </tr>\n    <tr>\n      <th>10</th>\n      <td>2020</td>\n      <td>AUS</td>\n      <td>Australia</td>\n      <td>1</td>\n      <td>0</td>\n      <td>419</td>\n      <td>207</td>\n      <td>2.024</td>\n      <td>0</td>\n      <td>0</td>\n      <td>0</td>\n      <td>0</td>\n      <td>0</td>\n      <td>0</td>\n      <td>0</td>\n      <td>0</td>\n      <td>1</td>\n      <td>0</td>\n      <td>0</td>\n    </tr>\n    <tr>\n      <th>72</th>\n      <td>2020</td>\n      <td>GER</td>\n      <td>Germany</td>\n      <td>1</td>\n      <td>0</td>\n      <td>407</td>\n      <td>212</td>\n      <td>1.920</td>\n      <td>0</td>\n      <td>1</td>\n      <td>0</td>\n      <td>0</td>\n      <td>0</td>\n      <td>0</td>\n      <td>0</td>\n      <td>0</td>\n      <td>0</td>\n      <td>0</td>\n      <td>0</td>\n    </tr>\n    <tr>\n      <th>68</th>\n      <td>2020</td>\n      <td>GBR</td>\n      <td>UK</td>\n      <td>1</td>\n      <td>0</td>\n      <td>398</td>\n      <td>210</td>\n      <td>1.895</td>\n      <td>0</td>\n      <td>0</td>\n      <td>1</td>\n      <td>0</td>\n      <td>0</td>\n      <td>0</td>\n      <td>0</td>\n      <td>0</td>\n      <td>0</td>\n      <td>0</td>\n      <td>0</td>\n    </tr>\n  </tbody>\n</table>\n</div>",
      "text/plain": "     Year  NOC     region  Summer  Host  Name  Events  Athletes per Event  \\\n196  2020  USA        USA       1     0   557     249               2.237   \n38   2020  CHN      China       1     0   446     224               1.991   \n10   2020  AUS  Australia       1     0   419     207               2.024   \n72   2020  GER    Germany       1     0   407     212               1.920   \n68   2020  GBR         UK       1     0   398     210               1.895   \n\n     NOC_USA  NOC_GER  NOC_GBR  NOC_FRA  NOC_ITA  NOC_SWE  NOC_CHN  NOC_RUS  \\\n196        1        0        0        0        0        0        0        0   \n38         0        0        0        0        0        0        1        0   \n10         0        0        0        0        0        0        0        0   \n72         0        1        0        0        0        0        0        0   \n68         0        0        1        0        0        0        0        0   \n\n     NOC_AUS  NOC_HUN  NOC_JPN  \n196        0        0        0  \n38         0        0        0  \n10         1        0        0  \n72         0        0        0  \n68         0        0        0  "
     },
     "execution_count": 30,
     "metadata": {},
     "output_type": "execute_result"
    }
   ],
   "source": [
    "# copy Rio 2016 variables and update year\n",
    "tokyo_2020_medals         = X_test\n",
    "tokyo_2020_medals['Year'] = 2020\n",
    "\n",
    "# change host to Japan\n",
    "tokyo_2020_medals['Host']                                        = 0\n",
    "tokyo_2020_medals.loc[tokyo_2020_medals['NOC'] == 'JPN', 'Host'] = 1\n",
    "\n",
    "# update 2020 Athletes, Females, Sports and Events based on mean between 2008 and 2016\n",
    "tokyo_2020_medals = tokyo_2020_medals.drop(['Name','Events'],axis=1)\n",
    "tokyo_2020_medals = tokyo_2020_medals.merge(previous_medals)\n",
    "\n",
    "# zero Athletes if no Events\n",
    "tokyo_2020_medals.loc[tokyo_2020_medals['Events'] == 0, 'Name'] = 0\n",
    "\n",
    "# update Athletes per Event\n",
    "tokyo_2020_medals['Athletes per Event'] = tokyo_2020_medals['Name'] / tokyo_2020_medals['Events']\n",
    "tokyo_2020_medals['Athletes per Event'] = (tokyo_2020_medals['Athletes per Event'].fillna(0)).round(3)\n",
    "\n",
    "# reorder features\n",
    "tokyo_2020_medals = tokyo_2020_medals[['Year','NOC','region',\n",
    "                                       'Summer','Host','Name','Events','Athletes per Event', \n",
    "                                       'NOC_USA','NOC_GER','NOC_GBR','NOC_FRA','NOC_ITA',\n",
    "                                       'NOC_SWE','NOC_CHN','NOC_RUS','NOC_AUS','NOC_HUN',\n",
    "                                       'NOC_JPN']]\n",
    "\n",
    "print(tokyo_2020_medals.shape)\n",
    "tokyo_2020_medals.sort_values(by='Name',ascending=False).head()"
   ]
  },
  {
   "cell_type": "code",
   "execution_count": 31,
   "metadata": {},
   "outputs": [
    {
     "name": "stderr",
     "output_type": "stream",
     "text": [
      "<ipython-input-31-bb793241a7f5>:4: SettingWithCopyWarning: \n",
      "A value is trying to be set on a copy of a slice from a DataFrame.\n",
      "Try using .loc[row_indexer,col_indexer] = value instead\n",
      "\n",
      "See the caveats in the documentation: https://pandas.pydata.org/pandas-docs/stable/user_guide/indexing.html#returning-a-view-versus-a-copy\n",
      "  y_2020['Golds Prediction']   = pd.DataFrame(\n",
      "<ipython-input-31-bb793241a7f5>:6: SettingWithCopyWarning: \n",
      "A value is trying to be set on a copy of a slice from a DataFrame.\n",
      "Try using .loc[row_indexer,col_indexer] = value instead\n",
      "\n",
      "See the caveats in the documentation: https://pandas.pydata.org/pandas-docs/stable/user_guide/indexing.html#returning-a-view-versus-a-copy\n",
      "  y_2020['Golds Prediction']   = y_2020['Golds Prediction'].astype('int64')\n",
      "<ipython-input-31-bb793241a7f5>:7: SettingWithCopyWarning: \n",
      "A value is trying to be set on a copy of a slice from a DataFrame.\n",
      "Try using .loc[row_indexer,col_indexer] = value instead\n",
      "\n",
      "See the caveats in the documentation: https://pandas.pydata.org/pandas-docs/stable/user_guide/indexing.html#returning-a-view-versus-a-copy\n",
      "  y_2020['Golds Prediction']   = y_2020['Golds Prediction'].clip(lower=0)\n",
      "<ipython-input-31-bb793241a7f5>:9: SettingWithCopyWarning: \n",
      "A value is trying to be set on a copy of a slice from a DataFrame.\n",
      "Try using .loc[row_indexer,col_indexer] = value instead\n",
      "\n",
      "See the caveats in the documentation: https://pandas.pydata.org/pandas-docs/stable/user_guide/indexing.html#returning-a-view-versus-a-copy\n",
      "  y_2020['Silvers Prediction'] = pd.DataFrame(\n",
      "<ipython-input-31-bb793241a7f5>:11: SettingWithCopyWarning: \n",
      "A value is trying to be set on a copy of a slice from a DataFrame.\n",
      "Try using .loc[row_indexer,col_indexer] = value instead\n",
      "\n",
      "See the caveats in the documentation: https://pandas.pydata.org/pandas-docs/stable/user_guide/indexing.html#returning-a-view-versus-a-copy\n",
      "  y_2020['Silvers Prediction'] = y_2020['Silvers Prediction'].astype('int64')\n",
      "<ipython-input-31-bb793241a7f5>:12: SettingWithCopyWarning: \n",
      "A value is trying to be set on a copy of a slice from a DataFrame.\n",
      "Try using .loc[row_indexer,col_indexer] = value instead\n",
      "\n",
      "See the caveats in the documentation: https://pandas.pydata.org/pandas-docs/stable/user_guide/indexing.html#returning-a-view-versus-a-copy\n",
      "  y_2020['Silvers Prediction'] = y_2020['Silvers Prediction'].clip(lower=0)\n",
      "<ipython-input-31-bb793241a7f5>:14: SettingWithCopyWarning: \n",
      "A value is trying to be set on a copy of a slice from a DataFrame.\n",
      "Try using .loc[row_indexer,col_indexer] = value instead\n",
      "\n",
      "See the caveats in the documentation: https://pandas.pydata.org/pandas-docs/stable/user_guide/indexing.html#returning-a-view-versus-a-copy\n",
      "  y_2020['Bronzes Prediction'] = pd.DataFrame(\n",
      "<ipython-input-31-bb793241a7f5>:16: SettingWithCopyWarning: \n",
      "A value is trying to be set on a copy of a slice from a DataFrame.\n",
      "Try using .loc[row_indexer,col_indexer] = value instead\n",
      "\n",
      "See the caveats in the documentation: https://pandas.pydata.org/pandas-docs/stable/user_guide/indexing.html#returning-a-view-versus-a-copy\n",
      "  y_2020['Bronzes Prediction'] = y_2020['Bronzes Prediction'].astype('int64')\n",
      "<ipython-input-31-bb793241a7f5>:17: SettingWithCopyWarning: \n",
      "A value is trying to be set on a copy of a slice from a DataFrame.\n",
      "Try using .loc[row_indexer,col_indexer] = value instead\n",
      "\n",
      "See the caveats in the documentation: https://pandas.pydata.org/pandas-docs/stable/user_guide/indexing.html#returning-a-view-versus-a-copy\n",
      "  y_2020['Bronzes Prediction'] = y_2020['Bronzes Prediction'].clip(lower=0)\n",
      "<ipython-input-31-bb793241a7f5>:19: SettingWithCopyWarning: \n",
      "A value is trying to be set on a copy of a slice from a DataFrame.\n",
      "Try using .loc[row_indexer,col_indexer] = value instead\n",
      "\n",
      "See the caveats in the documentation: https://pandas.pydata.org/pandas-docs/stable/user_guide/indexing.html#returning-a-view-versus-a-copy\n",
      "  y_2020['Medals Prediction']  = y_2020['Golds Prediction'] + y_2020['Silvers Prediction'] + y_2020['Bronzes Prediction']\n"
     ]
    },
    {
     "data": {
      "text/html": "<div>\n<style scoped>\n    .dataframe tbody tr th:only-of-type {\n        vertical-align: middle;\n    }\n\n    .dataframe tbody tr th {\n        vertical-align: top;\n    }\n\n    .dataframe thead th {\n        text-align: right;\n    }\n</style>\n<table border=\"1\" class=\"dataframe\">\n  <thead>\n    <tr style=\"text-align: right;\">\n      <th></th>\n      <th>Year</th>\n      <th>NOC</th>\n      <th>region</th>\n      <th>Golds Prediction</th>\n      <th>Silvers Prediction</th>\n      <th>Bronzes Prediction</th>\n      <th>Medals Prediction</th>\n    </tr>\n  </thead>\n  <tbody>\n    <tr>\n      <th>0</th>\n      <td>2020</td>\n      <td>AFG</td>\n      <td>Afghanistan</td>\n      <td>0</td>\n      <td>0</td>\n      <td>0</td>\n      <td>0</td>\n    </tr>\n    <tr>\n      <th>1</th>\n      <td>2020</td>\n      <td>ALB</td>\n      <td>Albania</td>\n      <td>0</td>\n      <td>0</td>\n      <td>0</td>\n      <td>0</td>\n    </tr>\n    <tr>\n      <th>2</th>\n      <td>2020</td>\n      <td>ALG</td>\n      <td>Algeria</td>\n      <td>1</td>\n      <td>1</td>\n      <td>1</td>\n      <td>3</td>\n    </tr>\n    <tr>\n      <th>3</th>\n      <td>2020</td>\n      <td>AND</td>\n      <td>Andorra</td>\n      <td>0</td>\n      <td>0</td>\n      <td>0</td>\n      <td>0</td>\n    </tr>\n    <tr>\n      <th>4</th>\n      <td>2020</td>\n      <td>ANG</td>\n      <td>Angola</td>\n      <td>0</td>\n      <td>0</td>\n      <td>0</td>\n      <td>0</td>\n    </tr>\n  </tbody>\n</table>\n</div>",
      "text/plain": "   Year  NOC       region  Golds Prediction  Silvers Prediction  \\\n0  2020  AFG  Afghanistan                 0                   0   \n1  2020  ALB      Albania                 0                   0   \n2  2020  ALG      Algeria                 1                   1   \n3  2020  AND      Andorra                 0                   0   \n4  2020  ANG       Angola                 0                   0   \n\n   Bronzes Prediction  Medals Prediction  \n0                   0                  0  \n1                   0                  0  \n2                   1                  3  \n3                   0                  0  \n4                   0                  0  "
     },
     "execution_count": 31,
     "metadata": {},
     "output_type": "execute_result"
    }
   ],
   "source": [
    "# Make predictions using the Tokyo 2020 set\n",
    "y_2020                       = tokyo_2020_medals[['Year','NOC','region']]\n",
    "\n",
    "y_2020['Golds Prediction']   = pd.DataFrame(\n",
    "    regr_golds.predict(tokyo_2020_medals.drop(['Year','NOC','region'], axis=1)), columns=['Golds Prediction'])\n",
    "y_2020['Golds Prediction']   = y_2020['Golds Prediction'].astype('int64')\n",
    "y_2020['Golds Prediction']   = y_2020['Golds Prediction'].clip(lower=0)\n",
    "\n",
    "y_2020['Silvers Prediction'] = pd.DataFrame(\n",
    "    regr_silvers.predict(tokyo_2020_medals.drop(['Year','NOC','region'], axis=1)), columns=['Silvers Prediction'])\n",
    "y_2020['Silvers Prediction'] = y_2020['Silvers Prediction'].astype('int64')\n",
    "y_2020['Silvers Prediction'] = y_2020['Silvers Prediction'].clip(lower=0)\n",
    "\n",
    "y_2020['Bronzes Prediction'] = pd.DataFrame(\n",
    "    regr_bronzes.predict(tokyo_2020_medals.drop(['Year','NOC','region'], axis=1)), columns=['Bronzes Prediction'])\n",
    "y_2020['Bronzes Prediction'] = y_2020['Bronzes Prediction'].astype('int64')\n",
    "y_2020['Bronzes Prediction'] = y_2020['Bronzes Prediction'].clip(lower=0)\n",
    "\n",
    "y_2020['Medals Prediction']  = y_2020['Golds Prediction'] + y_2020['Silvers Prediction'] + y_2020['Bronzes Prediction']\n",
    "y_2020.head()"
   ]
  },
  {
   "cell_type": "code",
   "execution_count": 32,
   "metadata": {},
   "outputs": [
    {
     "data": {
      "text/html": "<div>\n<style scoped>\n    .dataframe tbody tr th:only-of-type {\n        vertical-align: middle;\n    }\n\n    .dataframe tbody tr th {\n        vertical-align: top;\n    }\n\n    .dataframe thead th {\n        text-align: right;\n    }\n</style>\n<table border=\"1\" class=\"dataframe\">\n  <thead>\n    <tr style=\"text-align: right;\">\n      <th></th>\n      <th>NOC</th>\n      <th>region</th>\n      <th>Host</th>\n      <th>Name</th>\n      <th>Events</th>\n      <th>Athletes per Event</th>\n      <th>Golds Prediction</th>\n      <th>Silvers Prediction</th>\n      <th>Bronzes Prediction</th>\n      <th>Medals Prediction</th>\n    </tr>\n  </thead>\n  <tbody>\n    <tr>\n      <th>0</th>\n      <td>USA</td>\n      <td>USA</td>\n      <td>0</td>\n      <td>557</td>\n      <td>249</td>\n      <td>2.237</td>\n      <td>37</td>\n      <td>31</td>\n      <td>29</td>\n      <td>97</td>\n    </tr>\n    <tr>\n      <th>1</th>\n      <td>CHN</td>\n      <td>China</td>\n      <td>0</td>\n      <td>446</td>\n      <td>224</td>\n      <td>1.991</td>\n      <td>24</td>\n      <td>21</td>\n      <td>20</td>\n      <td>65</td>\n    </tr>\n    <tr>\n      <th>2</th>\n      <td>GER</td>\n      <td>Germany</td>\n      <td>0</td>\n      <td>407</td>\n      <td>212</td>\n      <td>1.920</td>\n      <td>18</td>\n      <td>19</td>\n      <td>19</td>\n      <td>56</td>\n    </tr>\n    <tr>\n      <th>3</th>\n      <td>RUS</td>\n      <td>Russia</td>\n      <td>0</td>\n      <td>389</td>\n      <td>220</td>\n      <td>1.768</td>\n      <td>18</td>\n      <td>17</td>\n      <td>18</td>\n      <td>53</td>\n    </tr>\n    <tr>\n      <th>4</th>\n      <td>AUS</td>\n      <td>Australia</td>\n      <td>0</td>\n      <td>419</td>\n      <td>207</td>\n      <td>2.024</td>\n      <td>18</td>\n      <td>17</td>\n      <td>18</td>\n      <td>53</td>\n    </tr>\n    <tr>\n      <th>5</th>\n      <td>GBR</td>\n      <td>UK</td>\n      <td>0</td>\n      <td>398</td>\n      <td>210</td>\n      <td>1.895</td>\n      <td>15</td>\n      <td>15</td>\n      <td>16</td>\n      <td>46</td>\n    </tr>\n    <tr>\n      <th>6</th>\n      <td>BRA</td>\n      <td>Brazil</td>\n      <td>0</td>\n      <td>326</td>\n      <td>168</td>\n      <td>1.940</td>\n      <td>14</td>\n      <td>13</td>\n      <td>14</td>\n      <td>41</td>\n    </tr>\n    <tr>\n      <th>7</th>\n      <td>ESP</td>\n      <td>Spain</td>\n      <td>0</td>\n      <td>289</td>\n      <td>142</td>\n      <td>2.035</td>\n      <td>13</td>\n      <td>12</td>\n      <td>12</td>\n      <td>37</td>\n    </tr>\n    <tr>\n      <th>8</th>\n      <td>FRA</td>\n      <td>France</td>\n      <td>0</td>\n      <td>341</td>\n      <td>198</td>\n      <td>1.722</td>\n      <td>11</td>\n      <td>11</td>\n      <td>13</td>\n      <td>35</td>\n    </tr>\n    <tr>\n      <th>9</th>\n      <td>CAN</td>\n      <td>Canada</td>\n      <td>0</td>\n      <td>305</td>\n      <td>179</td>\n      <td>1.704</td>\n      <td>11</td>\n      <td>11</td>\n      <td>12</td>\n      <td>34</td>\n    </tr>\n    <tr>\n      <th>10</th>\n      <td>ITA</td>\n      <td>Italy</td>\n      <td>0</td>\n      <td>307</td>\n      <td>176</td>\n      <td>1.744</td>\n      <td>11</td>\n      <td>10</td>\n      <td>11</td>\n      <td>32</td>\n    </tr>\n    <tr>\n      <th>11</th>\n      <td>JPN</td>\n      <td>Japan</td>\n      <td>1</td>\n      <td>319</td>\n      <td>180</td>\n      <td>1.772</td>\n      <td>10</td>\n      <td>9</td>\n      <td>10</td>\n      <td>29</td>\n    </tr>\n    <tr>\n      <th>12</th>\n      <td>KOR</td>\n      <td>South Korea</td>\n      <td>0</td>\n      <td>239</td>\n      <td>133</td>\n      <td>1.797</td>\n      <td>9</td>\n      <td>9</td>\n      <td>9</td>\n      <td>27</td>\n    </tr>\n    <tr>\n      <th>13</th>\n      <td>NED</td>\n      <td>Netherlands</td>\n      <td>0</td>\n      <td>215</td>\n      <td>105</td>\n      <td>2.048</td>\n      <td>9</td>\n      <td>9</td>\n      <td>9</td>\n      <td>27</td>\n    </tr>\n    <tr>\n      <th>14</th>\n      <td>POL</td>\n      <td>Poland</td>\n      <td>0</td>\n      <td>233</td>\n      <td>152</td>\n      <td>1.533</td>\n      <td>7</td>\n      <td>7</td>\n      <td>8</td>\n      <td>22</td>\n    </tr>\n    <tr>\n      <th>15</th>\n      <td>NZL</td>\n      <td>New Zealand</td>\n      <td>0</td>\n      <td>183</td>\n      <td>88</td>\n      <td>2.080</td>\n      <td>8</td>\n      <td>7</td>\n      <td>7</td>\n      <td>22</td>\n    </tr>\n    <tr>\n      <th>16</th>\n      <td>ARG</td>\n      <td>Argentina</td>\n      <td>0</td>\n      <td>161</td>\n      <td>72</td>\n      <td>2.236</td>\n      <td>7</td>\n      <td>7</td>\n      <td>7</td>\n      <td>21</td>\n    </tr>\n    <tr>\n      <th>17</th>\n      <td>UKR</td>\n      <td>Ukraine</td>\n      <td>0</td>\n      <td>225</td>\n      <td>164</td>\n      <td>1.372</td>\n      <td>6</td>\n      <td>6</td>\n      <td>7</td>\n      <td>19</td>\n    </tr>\n    <tr>\n      <th>18</th>\n      <td>HUN</td>\n      <td>Hungary</td>\n      <td>0</td>\n      <td>158</td>\n      <td>116</td>\n      <td>1.362</td>\n      <td>5</td>\n      <td>5</td>\n      <td>6</td>\n      <td>16</td>\n    </tr>\n    <tr>\n      <th>19</th>\n      <td>SWE</td>\n      <td>Sweden</td>\n      <td>0</td>\n      <td>135</td>\n      <td>80</td>\n      <td>1.688</td>\n      <td>4</td>\n      <td>5</td>\n      <td>5</td>\n      <td>14</td>\n    </tr>\n  </tbody>\n</table>\n</div>",
      "text/plain": "    NOC       region  Host  Name  Events  Athletes per Event  \\\n0   USA          USA     0   557     249               2.237   \n1   CHN        China     0   446     224               1.991   \n2   GER      Germany     0   407     212               1.920   \n3   RUS       Russia     0   389     220               1.768   \n4   AUS    Australia     0   419     207               2.024   \n5   GBR           UK     0   398     210               1.895   \n6   BRA       Brazil     0   326     168               1.940   \n7   ESP        Spain     0   289     142               2.035   \n8   FRA       France     0   341     198               1.722   \n9   CAN       Canada     0   305     179               1.704   \n10  ITA        Italy     0   307     176               1.744   \n11  JPN        Japan     1   319     180               1.772   \n12  KOR  South Korea     0   239     133               1.797   \n13  NED  Netherlands     0   215     105               2.048   \n14  POL       Poland     0   233     152               1.533   \n15  NZL  New Zealand     0   183      88               2.080   \n16  ARG    Argentina     0   161      72               2.236   \n17  UKR      Ukraine     0   225     164               1.372   \n18  HUN      Hungary     0   158     116               1.362   \n19  SWE       Sweden     0   135      80               1.688   \n\n    Golds Prediction  Silvers Prediction  Bronzes Prediction  \\\n0                 37                  31                  29   \n1                 24                  21                  20   \n2                 18                  19                  19   \n3                 18                  17                  18   \n4                 18                  17                  18   \n5                 15                  15                  16   \n6                 14                  13                  14   \n7                 13                  12                  12   \n8                 11                  11                  13   \n9                 11                  11                  12   \n10                11                  10                  11   \n11                10                   9                  10   \n12                 9                   9                   9   \n13                 9                   9                   9   \n14                 7                   7                   8   \n15                 8                   7                   7   \n16                 7                   7                   7   \n17                 6                   6                   7   \n18                 5                   5                   6   \n19                 4                   5                   5   \n\n    Medals Prediction  \n0                  97  \n1                  65  \n2                  56  \n3                  53  \n4                  53  \n5                  46  \n6                  41  \n7                  37  \n8                  35  \n9                  34  \n10                 32  \n11                 29  \n12                 27  \n13                 27  \n14                 22  \n15                 22  \n16                 21  \n17                 19  \n18                 16  \n19                 14  "
     },
     "execution_count": 32,
     "metadata": {},
     "output_type": "execute_result"
    }
   ],
   "source": [
    "tokyo_2020_medals = y_2020.merge(tokyo_2020_medals, on=['Year','NOC','region'])\n",
    "tokyo_2020_medals = tokyo_2020_medals.sort_values(by='Medals Prediction', ascending=False).reset_index()\n",
    "tokyo_2020_medals = tokyo_2020_medals[['NOC','region','Host','Name','Events','Athletes per Event',\n",
    "                   'Golds Prediction','Silvers Prediction','Bronzes Prediction','Medals Prediction']]\n",
    "tokyp_2020_medals_top = tokyo_2020_medals.head(20)\n",
    "tokyp_2020_medals_top"
   ]
  },
  {
   "cell_type": "code",
   "execution_count": 33,
   "metadata": {},
   "outputs": [],
   "source": [
    "tokyp_2020_medals_top.to_csv('../data/prediction.csv')"
   ]
  }
 ],
 "metadata": {
  "kernelspec": {
   "display_name": "Python 3",
   "language": "python",
   "name": "python3"
  },
  "language_info": {
   "codemirror_mode": {
    "name": "ipython",
    "version": 3
   },
   "file_extension": ".py",
   "mimetype": "text/x-python",
   "name": "python",
   "nbconvert_exporter": "python",
   "pygments_lexer": "ipython3",
   "version": "3.8.5"
  }
 },
 "nbformat": 4,
 "nbformat_minor": 2
}